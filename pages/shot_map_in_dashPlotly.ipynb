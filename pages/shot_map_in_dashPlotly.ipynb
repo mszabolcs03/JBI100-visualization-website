{
 "cells": [
  {
   "cell_type": "code",
   "execution_count": 1,
   "id": "eb685e95",
   "metadata": {},
   "outputs": [
    {
     "name": "stderr",
     "output_type": "stream",
     "text": [
      "C:\\ProgramData\\Anaconda3\\lib\\site-packages\\scipy\\__init__.py:138: UserWarning: A NumPy version >=1.16.5 and <1.23.0 is required for this version of SciPy (detected version 1.24.4)\n",
      "  warnings.warn(f\"A NumPy version >={np_minversion} and <{np_maxversion} is required for this version of \"\n"
     ]
    }
   ],
   "source": [
    "import numpy as np\n",
    "import pandas as pd\n",
    "import seaborn as sns\n",
    "import matplotlib.pyplot as plt\n",
    "import matplotlib.ticker as ticker\n",
    "import matplotlib.patheffects as path_effects\n",
    "from mplsoccer import Pitch, Sbopen, VerticalPitch\n",
    "from matplotlib.colors import to_rgba\n",
    "import matplotlib.patches as mpatches\n",
    "from mplsoccer import Pitch\n",
    "\n",
    "# Load and explore the dataset\n",
    "parser = Sbopen()\n",
    "competitions = parser.competition()\n",
    "competitions.head(20)\n",
    "\n",
    "# Selecting the World Cup Final\n",
    "df, df_related, df_freeze, df_tactics = parser.event(3869685)\n",
    "# Players involved in the final\n",
    "def getUniquePlayers():\n",
    "    return df['player_name'].value_counts()\n",
    "\n",
    "getUniquePlayers()\n",
    "\n",
    "# Replacing some full names with famous names\n",
    "# Example replacements (repeat this for other players as necessary)\n",
    "replacements = {\n",
    "    'Lionel Andrés Messi Cuccittini': 'Lionel Messi',\n",
    "    'Rodrigo Javier De Paul': 'Rodrigo De Paul'\n",
    "    # Add more replacements here\n",
    "}\n",
    "df['player_name'] = df['player_name'].replace(replacements)\n"
   ]
  },
  {
   "cell_type": "code",
   "execution_count": 2,
   "id": "3393677d",
   "metadata": {},
   "outputs": [
    {
     "data": {
      "text/html": [
       "<div>\n",
       "<style scoped>\n",
       "    .dataframe tbody tr th:only-of-type {\n",
       "        vertical-align: middle;\n",
       "    }\n",
       "\n",
       "    .dataframe tbody tr th {\n",
       "        vertical-align: top;\n",
       "    }\n",
       "\n",
       "    .dataframe thead th {\n",
       "        text-align: right;\n",
       "    }\n",
       "</style>\n",
       "<table border=\"1\" class=\"dataframe\">\n",
       "  <thead>\n",
       "    <tr style=\"text-align: right;\">\n",
       "      <th></th>\n",
       "      <th>Index</th>\n",
       "      <th>player_name</th>\n",
       "      <th>period</th>\n",
       "      <th>timestamp</th>\n",
       "      <th>minute</th>\n",
       "      <th>second</th>\n",
       "      <th>x</th>\n",
       "      <th>y</th>\n",
       "      <th>outcome_name</th>\n",
       "      <th>end_x</th>\n",
       "      <th>end_y</th>\n",
       "      <th>shot_statsbomb_xg</th>\n",
       "      <th>end_z</th>\n",
       "      <th>technique_id</th>\n",
       "      <th>technique_name</th>\n",
       "      <th>body_part_name</th>\n",
       "    </tr>\n",
       "  </thead>\n",
       "  <tbody>\n",
       "    <tr>\n",
       "      <th>770</th>\n",
       "      <td>1</td>\n",
       "      <td>Lionel Messi</td>\n",
       "      <td>1</td>\n",
       "      <td>00:22:24.114000</td>\n",
       "      <td>22</td>\n",
       "      <td>24</td>\n",
       "      <td>108.0</td>\n",
       "      <td>40.0</td>\n",
       "      <td>Goal</td>\n",
       "      <td>120.0</td>\n",
       "      <td>41.8</td>\n",
       "      <td>0.78</td>\n",
       "      <td>0.2</td>\n",
       "      <td>93.0</td>\n",
       "      <td>Normal</td>\n",
       "      <td>Left Foot</td>\n",
       "    </tr>\n",
       "    <tr>\n",
       "      <th>2235</th>\n",
       "      <td>2</td>\n",
       "      <td>Lionel Messi</td>\n",
       "      <td>2</td>\n",
       "      <td>00:14:51.755000</td>\n",
       "      <td>59</td>\n",
       "      <td>51</td>\n",
       "      <td>109.7</td>\n",
       "      <td>46.0</td>\n",
       "      <td>Off T</td>\n",
       "      <td>120.0</td>\n",
       "      <td>45.5</td>\n",
       "      <td>0.12</td>\n",
       "      <td>1.5</td>\n",
       "      <td>93.0</td>\n",
       "      <td>Normal</td>\n",
       "      <td>Right Foot</td>\n",
       "    </tr>\n",
       "    <tr>\n",
       "      <th>3389</th>\n",
       "      <td>3</td>\n",
       "      <td>Lionel Messi</td>\n",
       "      <td>2</td>\n",
       "      <td>00:51:37.226000</td>\n",
       "      <td>96</td>\n",
       "      <td>37</td>\n",
       "      <td>96.2</td>\n",
       "      <td>40.9</td>\n",
       "      <td>Saved</td>\n",
       "      <td>117.6</td>\n",
       "      <td>39.3</td>\n",
       "      <td>0.04</td>\n",
       "      <td>2.3</td>\n",
       "      <td>93.0</td>\n",
       "      <td>Normal</td>\n",
       "      <td>Left Foot</td>\n",
       "    </tr>\n",
       "    <tr>\n",
       "      <th>4041</th>\n",
       "      <td>4</td>\n",
       "      <td>Lionel Messi</td>\n",
       "      <td>4</td>\n",
       "      <td>00:01:55.723000</td>\n",
       "      <td>106</td>\n",
       "      <td>55</td>\n",
       "      <td>103.6</td>\n",
       "      <td>55.8</td>\n",
       "      <td>Saved</td>\n",
       "      <td>119.0</td>\n",
       "      <td>43.9</td>\n",
       "      <td>0.02</td>\n",
       "      <td>0.2</td>\n",
       "      <td>91.0</td>\n",
       "      <td>Half Volley</td>\n",
       "      <td>Left Foot</td>\n",
       "    </tr>\n",
       "    <tr>\n",
       "      <th>4069</th>\n",
       "      <td>5</td>\n",
       "      <td>Lionel Messi</td>\n",
       "      <td>4</td>\n",
       "      <td>00:02:58.079000</td>\n",
       "      <td>107</td>\n",
       "      <td>58</td>\n",
       "      <td>116.6</td>\n",
       "      <td>43.0</td>\n",
       "      <td>Goal</td>\n",
       "      <td>120.0</td>\n",
       "      <td>40.9</td>\n",
       "      <td>0.49</td>\n",
       "      <td>0.3</td>\n",
       "      <td>91.0</td>\n",
       "      <td>Half Volley</td>\n",
       "      <td>Right Foot</td>\n",
       "    </tr>\n",
       "    <tr>\n",
       "      <th>4390</th>\n",
       "      <td>6</td>\n",
       "      <td>Lionel Messi</td>\n",
       "      <td>5</td>\n",
       "      <td>00:01:02.191000</td>\n",
       "      <td>121</td>\n",
       "      <td>2</td>\n",
       "      <td>108.1</td>\n",
       "      <td>40.1</td>\n",
       "      <td>Goal</td>\n",
       "      <td>120.0</td>\n",
       "      <td>38.3</td>\n",
       "      <td>0.78</td>\n",
       "      <td>0.2</td>\n",
       "      <td>93.0</td>\n",
       "      <td>Normal</td>\n",
       "      <td>Left Foot</td>\n",
       "    </tr>\n",
       "  </tbody>\n",
       "</table>\n",
       "</div>"
      ],
      "text/plain": [
       "      Index   player_name  period        timestamp  minute  second      x  \\\n",
       "770       1  Lionel Messi       1  00:22:24.114000      22      24  108.0   \n",
       "2235      2  Lionel Messi       2  00:14:51.755000      59      51  109.7   \n",
       "3389      3  Lionel Messi       2  00:51:37.226000      96      37   96.2   \n",
       "4041      4  Lionel Messi       4  00:01:55.723000     106      55  103.6   \n",
       "4069      5  Lionel Messi       4  00:02:58.079000     107      58  116.6   \n",
       "4390      6  Lionel Messi       5  00:01:02.191000     121       2  108.1   \n",
       "\n",
       "         y outcome_name  end_x  end_y  shot_statsbomb_xg  end_z  technique_id  \\\n",
       "770   40.0         Goal  120.0   41.8               0.78    0.2          93.0   \n",
       "2235  46.0        Off T  120.0   45.5               0.12    1.5          93.0   \n",
       "3389  40.9        Saved  117.6   39.3               0.04    2.3          93.0   \n",
       "4041  55.8        Saved  119.0   43.9               0.02    0.2          91.0   \n",
       "4069  43.0         Goal  120.0   40.9               0.49    0.3          91.0   \n",
       "4390  40.1         Goal  120.0   38.3               0.78    0.2          93.0   \n",
       "\n",
       "     technique_name body_part_name  \n",
       "770          Normal      Left Foot  \n",
       "2235         Normal     Right Foot  \n",
       "3389         Normal      Left Foot  \n",
       "4041    Half Volley      Left Foot  \n",
       "4069    Half Volley     Right Foot  \n",
       "4390         Normal      Left Foot  "
      ]
     },
     "metadata": {},
     "output_type": "display_data"
    }
   ],
   "source": [
    "from mplsoccer.pitch import Pitch\n",
    "import matplotlib.pyplot as plt\n",
    "\n",
    "def deriveShotMapData(playername):\n",
    "    # Filter for shots by the player\n",
    "    mask = (df.type_name == 'Shot') & (df.player_name == playername)\n",
    "    columns = ['player_name', 'period','timestamp','minute','second','x', 'y', 'outcome_name', 'end_x', 'end_y', 'shot_statsbomb_xg', 'end_z', 'technique_id', 'technique_name', 'body_part_name', ]\n",
    "    df_shots = df.loc[mask, columns]\n",
    "    df_shots['shot_statsbomb_xg'] = df['shot_statsbomb_xg'].round(2)\n",
    "    df_shots['Index'] = range(1, len(df_shots) + 1)\n",
    "    desired_col_order = ['Index', 'player_name', 'period', 'timestamp', 'minute', 'second', 'x', 'y', 'outcome_name', 'end_x', 'end_y', 'shot_statsbomb_xg', 'end_z', 'technique_id', 'technique_name', 'body_part_name']\n",
    "    df_shots = df_shots[desired_col_order]\n",
    "\n",
    "    return df_shots  # Returning the filtered DataFrame for further use\n",
    "\n",
    "# Example usage:\n",
    "data12 = deriveShotMapData(\"Lionel Messi\")\n",
    "display(data12)"
   ]
  },
  {
   "cell_type": "code",
   "execution_count": null,
   "id": "1077c7c6",
   "metadata": {},
   "outputs": [],
   "source": []
  },
  {
   "cell_type": "code",
   "execution_count": 197,
   "id": "176ae3c9",
   "metadata": {},
   "outputs": [],
   "source": [
    "from PIL import Image\n",
    "import plotly.graph_objects as go\n",
    "\n",
    "def makePitch(PlayerNames):\n",
    "    img1 = Image.open('C:/Users/20211424/Documents/Y3/Q2/Visualization/New.png')\n",
    "    img = Image.open('C:/Users/20211424/Documents/Y3/Q2/Visualization/New2.png')\n",
    "    \n",
    "    fig = go.Figure()\n",
    "\n",
    "    for name in PlayerNames:\n",
    "        data = deriveShotMapData(name)\n",
    "    \n",
    "    # Process data\n",
    "    data['x'] = (data['x'] - 60) * (2/3)\n",
    "    column_list = data['Index'].tolist()\n",
    "    string_list = [str(item) for item in column_list]\n",
    "    \n",
    "    # Adding data to the plot\n",
    "    fig.add_trace(\n",
    "        go.Scatter(\n",
    "            x=data['x'].values,\n",
    "            y=data['y'].values,\n",
    "            mode='markers+text',\n",
    "            marker=dict(\n",
    "                size=15,\n",
    "                color=data['outcome_name'].map(\n",
    "                    {'Goal': 'green', 'Off T': 'red', 'Saved': 'orange'}\n",
    "                ),\n",
    "            ),\n",
    "            text=string_list,  # Display index numbers on data points\n",
    "            textposition='middle center',\n",
    "            name='Salah',\n",
    "            textfont=dict(size=10),\n",
    "        ))\n",
    "\n",
    "    # Update layout for the axes and reduce margins\n",
    "    fig.update_layout(\n",
    "        autosize=False,\n",
    "        width=588,\n",
    "        height=700,\n",
    "        xaxis=dict(showline=False, showgrid=False, showticklabels=False, range=[0, 42]),\n",
    "        yaxis=dict(showline=False, showgrid=False, showticklabels=False, autorange='reversed', range=[0, 80]),\n",
    "        yaxis_scaleanchor=\"x\",\n",
    "        yaxis_scaleratio=0.7,\n",
    "        margin=dict(l=20, r=20, t=20, b=20),  # Adjust margins (left, right, top, bottom)\n",
    "    )\n",
    "    \n",
    "    # Add background image\n",
    "    fig.add_layout_image(\n",
    "        dict(source=img,\n",
    "             xref='x',\n",
    "             yref='y',\n",
    "             x=0,\n",
    "             y=0,\n",
    "             sizex=42,\n",
    "             sizey=80,\n",
    "             sizing='contain',\n",
    "             opacity=0.9,\n",
    "             layer='below')\n",
    "    )\n",
    "\n",
    "    fig.update_layout(template=\"plotly_white\")\n",
    "    return fig\n"
   ]
  },
  {
   "cell_type": "code",
   "execution_count": 198,
   "id": "72dc2e46",
   "metadata": {
    "scrolled": true
   },
   "outputs": [
    {
     "data": {
      "application/vnd.plotly.v1+json": {
       "config": {
        "plotlyServerURL": "https://plot.ly"
       },
       "data": [
        {
         "marker": {
          "color": [
           "green",
           "red",
           "orange",
           "orange",
           "green",
           "green"
          ],
          "size": 15
         },
         "mode": "markers+text",
         "name": "Salah",
         "text": [
          "1",
          "2",
          "3",
          "4",
          "5",
          "6"
         ],
         "textfont": {
          "size": 10
         },
         "textposition": "middle center",
         "type": "scatter",
         "x": [
          32,
          33.13333333333333,
          24.133333333333333,
          29.066666666666663,
          37.73333333333333,
          32.06666666666666
         ],
         "y": [
          40,
          46,
          40.9,
          55.8,
          43,
          40.1
         ]
        }
       ],
       "layout": {
        "autosize": false,
        "height": 700,
        "images": [
         {
          "layer": "below",
          "opacity": 0.9,
          "sizex": 42,
          "sizey": 80,
          "sizing": "contain",
          "source": "data:image/png;base64,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",
          "x": 0,
          "xref": "x",
          "y": 0,
          "yref": "y"
         }
        ],
        "margin": {
         "b": 20,
         "l": 20,
         "r": 20,
         "t": 20
        },
        "template": {
         "data": {
          "bar": [
           {
            "error_x": {
             "color": "#2a3f5f"
            },
            "error_y": {
             "color": "#2a3f5f"
            },
            "marker": {
             "line": {
              "color": "white",
              "width": 0.5
             },
             "pattern": {
              "fillmode": "overlay",
              "size": 10,
              "solidity": 0.2
             }
            },
            "type": "bar"
           }
          ],
          "barpolar": [
           {
            "marker": {
             "line": {
              "color": "white",
              "width": 0.5
             },
             "pattern": {
              "fillmode": "overlay",
              "size": 10,
              "solidity": 0.2
             }
            },
            "type": "barpolar"
           }
          ],
          "carpet": [
           {
            "aaxis": {
             "endlinecolor": "#2a3f5f",
             "gridcolor": "#C8D4E3",
             "linecolor": "#C8D4E3",
             "minorgridcolor": "#C8D4E3",
             "startlinecolor": "#2a3f5f"
            },
            "baxis": {
             "endlinecolor": "#2a3f5f",
             "gridcolor": "#C8D4E3",
             "linecolor": "#C8D4E3",
             "minorgridcolor": "#C8D4E3",
             "startlinecolor": "#2a3f5f"
            },
            "type": "carpet"
           }
          ],
          "choropleth": [
           {
            "colorbar": {
             "outlinewidth": 0,
             "ticks": ""
            },
            "type": "choropleth"
           }
          ],
          "contour": [
           {
            "colorbar": {
             "outlinewidth": 0,
             "ticks": ""
            },
            "colorscale": [
             [
              0,
              "#0d0887"
             ],
             [
              0.1111111111111111,
              "#46039f"
             ],
             [
              0.2222222222222222,
              "#7201a8"
             ],
             [
              0.3333333333333333,
              "#9c179e"
             ],
             [
              0.4444444444444444,
              "#bd3786"
             ],
             [
              0.5555555555555556,
              "#d8576b"
             ],
             [
              0.6666666666666666,
              "#ed7953"
             ],
             [
              0.7777777777777778,
              "#fb9f3a"
             ],
             [
              0.8888888888888888,
              "#fdca26"
             ],
             [
              1,
              "#f0f921"
             ]
            ],
            "type": "contour"
           }
          ],
          "contourcarpet": [
           {
            "colorbar": {
             "outlinewidth": 0,
             "ticks": ""
            },
            "type": "contourcarpet"
           }
          ],
          "heatmap": [
           {
            "colorbar": {
             "outlinewidth": 0,
             "ticks": ""
            },
            "colorscale": [
             [
              0,
              "#0d0887"
             ],
             [
              0.1111111111111111,
              "#46039f"
             ],
             [
              0.2222222222222222,
              "#7201a8"
             ],
             [
              0.3333333333333333,
              "#9c179e"
             ],
             [
              0.4444444444444444,
              "#bd3786"
             ],
             [
              0.5555555555555556,
              "#d8576b"
             ],
             [
              0.6666666666666666,
              "#ed7953"
             ],
             [
              0.7777777777777778,
              "#fb9f3a"
             ],
             [
              0.8888888888888888,
              "#fdca26"
             ],
             [
              1,
              "#f0f921"
             ]
            ],
            "type": "heatmap"
           }
          ],
          "heatmapgl": [
           {
            "colorbar": {
             "outlinewidth": 0,
             "ticks": ""
            },
            "colorscale": [
             [
              0,
              "#0d0887"
             ],
             [
              0.1111111111111111,
              "#46039f"
             ],
             [
              0.2222222222222222,
              "#7201a8"
             ],
             [
              0.3333333333333333,
              "#9c179e"
             ],
             [
              0.4444444444444444,
              "#bd3786"
             ],
             [
              0.5555555555555556,
              "#d8576b"
             ],
             [
              0.6666666666666666,
              "#ed7953"
             ],
             [
              0.7777777777777778,
              "#fb9f3a"
             ],
             [
              0.8888888888888888,
              "#fdca26"
             ],
             [
              1,
              "#f0f921"
             ]
            ],
            "type": "heatmapgl"
           }
          ],
          "histogram": [
           {
            "marker": {
             "pattern": {
              "fillmode": "overlay",
              "size": 10,
              "solidity": 0.2
             }
            },
            "type": "histogram"
           }
          ],
          "histogram2d": [
           {
            "colorbar": {
             "outlinewidth": 0,
             "ticks": ""
            },
            "colorscale": [
             [
              0,
              "#0d0887"
             ],
             [
              0.1111111111111111,
              "#46039f"
             ],
             [
              0.2222222222222222,
              "#7201a8"
             ],
             [
              0.3333333333333333,
              "#9c179e"
             ],
             [
              0.4444444444444444,
              "#bd3786"
             ],
             [
              0.5555555555555556,
              "#d8576b"
             ],
             [
              0.6666666666666666,
              "#ed7953"
             ],
             [
              0.7777777777777778,
              "#fb9f3a"
             ],
             [
              0.8888888888888888,
              "#fdca26"
             ],
             [
              1,
              "#f0f921"
             ]
            ],
            "type": "histogram2d"
           }
          ],
          "histogram2dcontour": [
           {
            "colorbar": {
             "outlinewidth": 0,
             "ticks": ""
            },
            "colorscale": [
             [
              0,
              "#0d0887"
             ],
             [
              0.1111111111111111,
              "#46039f"
             ],
             [
              0.2222222222222222,
              "#7201a8"
             ],
             [
              0.3333333333333333,
              "#9c179e"
             ],
             [
              0.4444444444444444,
              "#bd3786"
             ],
             [
              0.5555555555555556,
              "#d8576b"
             ],
             [
              0.6666666666666666,
              "#ed7953"
             ],
             [
              0.7777777777777778,
              "#fb9f3a"
             ],
             [
              0.8888888888888888,
              "#fdca26"
             ],
             [
              1,
              "#f0f921"
             ]
            ],
            "type": "histogram2dcontour"
           }
          ],
          "mesh3d": [
           {
            "colorbar": {
             "outlinewidth": 0,
             "ticks": ""
            },
            "type": "mesh3d"
           }
          ],
          "parcoords": [
           {
            "line": {
             "colorbar": {
              "outlinewidth": 0,
              "ticks": ""
             }
            },
            "type": "parcoords"
           }
          ],
          "pie": [
           {
            "automargin": true,
            "type": "pie"
           }
          ],
          "scatter": [
           {
            "fillpattern": {
             "fillmode": "overlay",
             "size": 10,
             "solidity": 0.2
            },
            "type": "scatter"
           }
          ],
          "scatter3d": [
           {
            "line": {
             "colorbar": {
              "outlinewidth": 0,
              "ticks": ""
             }
            },
            "marker": {
             "colorbar": {
              "outlinewidth": 0,
              "ticks": ""
             }
            },
            "type": "scatter3d"
           }
          ],
          "scattercarpet": [
           {
            "marker": {
             "colorbar": {
              "outlinewidth": 0,
              "ticks": ""
             }
            },
            "type": "scattercarpet"
           }
          ],
          "scattergeo": [
           {
            "marker": {
             "colorbar": {
              "outlinewidth": 0,
              "ticks": ""
             }
            },
            "type": "scattergeo"
           }
          ],
          "scattergl": [
           {
            "marker": {
             "colorbar": {
              "outlinewidth": 0,
              "ticks": ""
             }
            },
            "type": "scattergl"
           }
          ],
          "scattermapbox": [
           {
            "marker": {
             "colorbar": {
              "outlinewidth": 0,
              "ticks": ""
             }
            },
            "type": "scattermapbox"
           }
          ],
          "scatterpolar": [
           {
            "marker": {
             "colorbar": {
              "outlinewidth": 0,
              "ticks": ""
             }
            },
            "type": "scatterpolar"
           }
          ],
          "scatterpolargl": [
           {
            "marker": {
             "colorbar": {
              "outlinewidth": 0,
              "ticks": ""
             }
            },
            "type": "scatterpolargl"
           }
          ],
          "scatterternary": [
           {
            "marker": {
             "colorbar": {
              "outlinewidth": 0,
              "ticks": ""
             }
            },
            "type": "scatterternary"
           }
          ],
          "surface": [
           {
            "colorbar": {
             "outlinewidth": 0,
             "ticks": ""
            },
            "colorscale": [
             [
              0,
              "#0d0887"
             ],
             [
              0.1111111111111111,
              "#46039f"
             ],
             [
              0.2222222222222222,
              "#7201a8"
             ],
             [
              0.3333333333333333,
              "#9c179e"
             ],
             [
              0.4444444444444444,
              "#bd3786"
             ],
             [
              0.5555555555555556,
              "#d8576b"
             ],
             [
              0.6666666666666666,
              "#ed7953"
             ],
             [
              0.7777777777777778,
              "#fb9f3a"
             ],
             [
              0.8888888888888888,
              "#fdca26"
             ],
             [
              1,
              "#f0f921"
             ]
            ],
            "type": "surface"
           }
          ],
          "table": [
           {
            "cells": {
             "fill": {
              "color": "#EBF0F8"
             },
             "line": {
              "color": "white"
             }
            },
            "header": {
             "fill": {
              "color": "#C8D4E3"
             },
             "line": {
              "color": "white"
             }
            },
            "type": "table"
           }
          ]
         },
         "layout": {
          "annotationdefaults": {
           "arrowcolor": "#2a3f5f",
           "arrowhead": 0,
           "arrowwidth": 1
          },
          "autotypenumbers": "strict",
          "coloraxis": {
           "colorbar": {
            "outlinewidth": 0,
            "ticks": ""
           }
          },
          "colorscale": {
           "diverging": [
            [
             0,
             "#8e0152"
            ],
            [
             0.1,
             "#c51b7d"
            ],
            [
             0.2,
             "#de77ae"
            ],
            [
             0.3,
             "#f1b6da"
            ],
            [
             0.4,
             "#fde0ef"
            ],
            [
             0.5,
             "#f7f7f7"
            ],
            [
             0.6,
             "#e6f5d0"
            ],
            [
             0.7,
             "#b8e186"
            ],
            [
             0.8,
             "#7fbc41"
            ],
            [
             0.9,
             "#4d9221"
            ],
            [
             1,
             "#276419"
            ]
           ],
           "sequential": [
            [
             0,
             "#0d0887"
            ],
            [
             0.1111111111111111,
             "#46039f"
            ],
            [
             0.2222222222222222,
             "#7201a8"
            ],
            [
             0.3333333333333333,
             "#9c179e"
            ],
            [
             0.4444444444444444,
             "#bd3786"
            ],
            [
             0.5555555555555556,
             "#d8576b"
            ],
            [
             0.6666666666666666,
             "#ed7953"
            ],
            [
             0.7777777777777778,
             "#fb9f3a"
            ],
            [
             0.8888888888888888,
             "#fdca26"
            ],
            [
             1,
             "#f0f921"
            ]
           ],
           "sequentialminus": [
            [
             0,
             "#0d0887"
            ],
            [
             0.1111111111111111,
             "#46039f"
            ],
            [
             0.2222222222222222,
             "#7201a8"
            ],
            [
             0.3333333333333333,
             "#9c179e"
            ],
            [
             0.4444444444444444,
             "#bd3786"
            ],
            [
             0.5555555555555556,
             "#d8576b"
            ],
            [
             0.6666666666666666,
             "#ed7953"
            ],
            [
             0.7777777777777778,
             "#fb9f3a"
            ],
            [
             0.8888888888888888,
             "#fdca26"
            ],
            [
             1,
             "#f0f921"
            ]
           ]
          },
          "colorway": [
           "#636efa",
           "#EF553B",
           "#00cc96",
           "#ab63fa",
           "#FFA15A",
           "#19d3f3",
           "#FF6692",
           "#B6E880",
           "#FF97FF",
           "#FECB52"
          ],
          "font": {
           "color": "#2a3f5f"
          },
          "geo": {
           "bgcolor": "white",
           "lakecolor": "white",
           "landcolor": "white",
           "showlakes": true,
           "showland": true,
           "subunitcolor": "#C8D4E3"
          },
          "hoverlabel": {
           "align": "left"
          },
          "hovermode": "closest",
          "mapbox": {
           "style": "light"
          },
          "paper_bgcolor": "white",
          "plot_bgcolor": "white",
          "polar": {
           "angularaxis": {
            "gridcolor": "#EBF0F8",
            "linecolor": "#EBF0F8",
            "ticks": ""
           },
           "bgcolor": "white",
           "radialaxis": {
            "gridcolor": "#EBF0F8",
            "linecolor": "#EBF0F8",
            "ticks": ""
           }
          },
          "scene": {
           "xaxis": {
            "backgroundcolor": "white",
            "gridcolor": "#DFE8F3",
            "gridwidth": 2,
            "linecolor": "#EBF0F8",
            "showbackground": true,
            "ticks": "",
            "zerolinecolor": "#EBF0F8"
           },
           "yaxis": {
            "backgroundcolor": "white",
            "gridcolor": "#DFE8F3",
            "gridwidth": 2,
            "linecolor": "#EBF0F8",
            "showbackground": true,
            "ticks": "",
            "zerolinecolor": "#EBF0F8"
           },
           "zaxis": {
            "backgroundcolor": "white",
            "gridcolor": "#DFE8F3",
            "gridwidth": 2,
            "linecolor": "#EBF0F8",
            "showbackground": true,
            "ticks": "",
            "zerolinecolor": "#EBF0F8"
           }
          },
          "shapedefaults": {
           "line": {
            "color": "#2a3f5f"
           }
          },
          "ternary": {
           "aaxis": {
            "gridcolor": "#DFE8F3",
            "linecolor": "#A2B1C6",
            "ticks": ""
           },
           "baxis": {
            "gridcolor": "#DFE8F3",
            "linecolor": "#A2B1C6",
            "ticks": ""
           },
           "bgcolor": "white",
           "caxis": {
            "gridcolor": "#DFE8F3",
            "linecolor": "#A2B1C6",
            "ticks": ""
           }
          },
          "title": {
           "x": 0.05
          },
          "xaxis": {
           "automargin": true,
           "gridcolor": "#EBF0F8",
           "linecolor": "#EBF0F8",
           "ticks": "",
           "title": {
            "standoff": 15
           },
           "zerolinecolor": "#EBF0F8",
           "zerolinewidth": 2
          },
          "yaxis": {
           "automargin": true,
           "gridcolor": "#EBF0F8",
           "linecolor": "#EBF0F8",
           "ticks": "",
           "title": {
            "standoff": 15
           },
           "zerolinecolor": "#EBF0F8",
           "zerolinewidth": 2
          }
         }
        },
        "width": 588,
        "xaxis": {
         "range": [
          0,
          42
         ],
         "showgrid": false,
         "showline": false,
         "showticklabels": false
        },
        "yaxis": {
         "autorange": "reversed",
         "range": [
          0,
          80
         ],
         "scaleanchor": "x",
         "scaleratio": 0.7,
         "showgrid": false,
         "showline": false,
         "showticklabels": false
        }
       }
      },
      "text/html": [
       "<div>                            <div id=\"c719dbcb-30d6-401b-9053-ab74345682a8\" class=\"plotly-graph-div\" style=\"height:700px; width:588px;\"></div>            <script type=\"text/javascript\">                require([\"plotly\"], function(Plotly) {                    window.PLOTLYENV=window.PLOTLYENV || {};                                    if (document.getElementById(\"c719dbcb-30d6-401b-9053-ab74345682a8\")) {                    Plotly.newPlot(                        \"c719dbcb-30d6-401b-9053-ab74345682a8\",                        [{\"marker\":{\"color\":[\"green\",\"red\",\"orange\",\"orange\",\"green\",\"green\"],\"size\":15},\"mode\":\"markers+text\",\"name\":\"Salah\",\"text\":[\"1\",\"2\",\"3\",\"4\",\"5\",\"6\"],\"textfont\":{\"size\":10},\"textposition\":\"middle center\",\"x\":[32.0,33.13333333333333,24.133333333333333,29.066666666666663,37.73333333333333,32.06666666666666],\"y\":[40.0,46.0,40.9,55.8,43.0,40.1],\"type\":\"scatter\"}],                        {\"template\":{\"data\":{\"barpolar\":[{\"marker\":{\"line\":{\"color\":\"white\",\"width\":0.5},\"pattern\":{\"fillmode\":\"overlay\",\"size\":10,\"solidity\":0.2}},\"type\":\"barpolar\"}],\"bar\":[{\"error_x\":{\"color\":\"#2a3f5f\"},\"error_y\":{\"color\":\"#2a3f5f\"},\"marker\":{\"line\":{\"color\":\"white\",\"width\":0.5},\"pattern\":{\"fillmode\":\"overlay\",\"size\":10,\"solidity\":0.2}},\"type\":\"bar\"}],\"carpet\":[{\"aaxis\":{\"endlinecolor\":\"#2a3f5f\",\"gridcolor\":\"#C8D4E3\",\"linecolor\":\"#C8D4E3\",\"minorgridcolor\":\"#C8D4E3\",\"startlinecolor\":\"#2a3f5f\"},\"baxis\":{\"endlinecolor\":\"#2a3f5f\",\"gridcolor\":\"#C8D4E3\",\"linecolor\":\"#C8D4E3\",\"minorgridcolor\":\"#C8D4E3\",\"startlinecolor\":\"#2a3f5f\"},\"type\":\"carpet\"}],\"choropleth\":[{\"colorbar\":{\"outlinewidth\":0,\"ticks\":\"\"},\"type\":\"choropleth\"}],\"contourcarpet\":[{\"colorbar\":{\"outlinewidth\":0,\"ticks\":\"\"},\"type\":\"contourcarpet\"}],\"contour\":[{\"colorbar\":{\"outlinewidth\":0,\"ticks\":\"\"},\"colorscale\":[[0.0,\"#0d0887\"],[0.1111111111111111,\"#46039f\"],[0.2222222222222222,\"#7201a8\"],[0.3333333333333333,\"#9c179e\"],[0.4444444444444444,\"#bd3786\"],[0.5555555555555556,\"#d8576b\"],[0.6666666666666666,\"#ed7953\"],[0.7777777777777778,\"#fb9f3a\"],[0.8888888888888888,\"#fdca26\"],[1.0,\"#f0f921\"]],\"type\":\"contour\"}],\"heatmapgl\":[{\"colorbar\":{\"outlinewidth\":0,\"ticks\":\"\"},\"colorscale\":[[0.0,\"#0d0887\"],[0.1111111111111111,\"#46039f\"],[0.2222222222222222,\"#7201a8\"],[0.3333333333333333,\"#9c179e\"],[0.4444444444444444,\"#bd3786\"],[0.5555555555555556,\"#d8576b\"],[0.6666666666666666,\"#ed7953\"],[0.7777777777777778,\"#fb9f3a\"],[0.8888888888888888,\"#fdca26\"],[1.0,\"#f0f921\"]],\"type\":\"heatmapgl\"}],\"heatmap\":[{\"colorbar\":{\"outlinewidth\":0,\"ticks\":\"\"},\"colorscale\":[[0.0,\"#0d0887\"],[0.1111111111111111,\"#46039f\"],[0.2222222222222222,\"#7201a8\"],[0.3333333333333333,\"#9c179e\"],[0.4444444444444444,\"#bd3786\"],[0.5555555555555556,\"#d8576b\"],[0.6666666666666666,\"#ed7953\"],[0.7777777777777778,\"#fb9f3a\"],[0.8888888888888888,\"#fdca26\"],[1.0,\"#f0f921\"]],\"type\":\"heatmap\"}],\"histogram2dcontour\":[{\"colorbar\":{\"outlinewidth\":0,\"ticks\":\"\"},\"colorscale\":[[0.0,\"#0d0887\"],[0.1111111111111111,\"#46039f\"],[0.2222222222222222,\"#7201a8\"],[0.3333333333333333,\"#9c179e\"],[0.4444444444444444,\"#bd3786\"],[0.5555555555555556,\"#d8576b\"],[0.6666666666666666,\"#ed7953\"],[0.7777777777777778,\"#fb9f3a\"],[0.8888888888888888,\"#fdca26\"],[1.0,\"#f0f921\"]],\"type\":\"histogram2dcontour\"}],\"histogram2d\":[{\"colorbar\":{\"outlinewidth\":0,\"ticks\":\"\"},\"colorscale\":[[0.0,\"#0d0887\"],[0.1111111111111111,\"#46039f\"],[0.2222222222222222,\"#7201a8\"],[0.3333333333333333,\"#9c179e\"],[0.4444444444444444,\"#bd3786\"],[0.5555555555555556,\"#d8576b\"],[0.6666666666666666,\"#ed7953\"],[0.7777777777777778,\"#fb9f3a\"],[0.8888888888888888,\"#fdca26\"],[1.0,\"#f0f921\"]],\"type\":\"histogram2d\"}],\"histogram\":[{\"marker\":{\"pattern\":{\"fillmode\":\"overlay\",\"size\":10,\"solidity\":0.2}},\"type\":\"histogram\"}],\"mesh3d\":[{\"colorbar\":{\"outlinewidth\":0,\"ticks\":\"\"},\"type\":\"mesh3d\"}],\"parcoords\":[{\"line\":{\"colorbar\":{\"outlinewidth\":0,\"ticks\":\"\"}},\"type\":\"parcoords\"}],\"pie\":[{\"automargin\":true,\"type\":\"pie\"}],\"scatter3d\":[{\"line\":{\"colorbar\":{\"outlinewidth\":0,\"ticks\":\"\"}},\"marker\":{\"colorbar\":{\"outlinewidth\":0,\"ticks\":\"\"}},\"type\":\"scatter3d\"}],\"scattercarpet\":[{\"marker\":{\"colorbar\":{\"outlinewidth\":0,\"ticks\":\"\"}},\"type\":\"scattercarpet\"}],\"scattergeo\":[{\"marker\":{\"colorbar\":{\"outlinewidth\":0,\"ticks\":\"\"}},\"type\":\"scattergeo\"}],\"scattergl\":[{\"marker\":{\"colorbar\":{\"outlinewidth\":0,\"ticks\":\"\"}},\"type\":\"scattergl\"}],\"scattermapbox\":[{\"marker\":{\"colorbar\":{\"outlinewidth\":0,\"ticks\":\"\"}},\"type\":\"scattermapbox\"}],\"scatterpolargl\":[{\"marker\":{\"colorbar\":{\"outlinewidth\":0,\"ticks\":\"\"}},\"type\":\"scatterpolargl\"}],\"scatterpolar\":[{\"marker\":{\"colorbar\":{\"outlinewidth\":0,\"ticks\":\"\"}},\"type\":\"scatterpolar\"}],\"scatter\":[{\"fillpattern\":{\"fillmode\":\"overlay\",\"size\":10,\"solidity\":0.2},\"type\":\"scatter\"}],\"scatterternary\":[{\"marker\":{\"colorbar\":{\"outlinewidth\":0,\"ticks\":\"\"}},\"type\":\"scatterternary\"}],\"surface\":[{\"colorbar\":{\"outlinewidth\":0,\"ticks\":\"\"},\"colorscale\":[[0.0,\"#0d0887\"],[0.1111111111111111,\"#46039f\"],[0.2222222222222222,\"#7201a8\"],[0.3333333333333333,\"#9c179e\"],[0.4444444444444444,\"#bd3786\"],[0.5555555555555556,\"#d8576b\"],[0.6666666666666666,\"#ed7953\"],[0.7777777777777778,\"#fb9f3a\"],[0.8888888888888888,\"#fdca26\"],[1.0,\"#f0f921\"]],\"type\":\"surface\"}],\"table\":[{\"cells\":{\"fill\":{\"color\":\"#EBF0F8\"},\"line\":{\"color\":\"white\"}},\"header\":{\"fill\":{\"color\":\"#C8D4E3\"},\"line\":{\"color\":\"white\"}},\"type\":\"table\"}]},\"layout\":{\"annotationdefaults\":{\"arrowcolor\":\"#2a3f5f\",\"arrowhead\":0,\"arrowwidth\":1},\"autotypenumbers\":\"strict\",\"coloraxis\":{\"colorbar\":{\"outlinewidth\":0,\"ticks\":\"\"}},\"colorscale\":{\"diverging\":[[0,\"#8e0152\"],[0.1,\"#c51b7d\"],[0.2,\"#de77ae\"],[0.3,\"#f1b6da\"],[0.4,\"#fde0ef\"],[0.5,\"#f7f7f7\"],[0.6,\"#e6f5d0\"],[0.7,\"#b8e186\"],[0.8,\"#7fbc41\"],[0.9,\"#4d9221\"],[1,\"#276419\"]],\"sequential\":[[0.0,\"#0d0887\"],[0.1111111111111111,\"#46039f\"],[0.2222222222222222,\"#7201a8\"],[0.3333333333333333,\"#9c179e\"],[0.4444444444444444,\"#bd3786\"],[0.5555555555555556,\"#d8576b\"],[0.6666666666666666,\"#ed7953\"],[0.7777777777777778,\"#fb9f3a\"],[0.8888888888888888,\"#fdca26\"],[1.0,\"#f0f921\"]],\"sequentialminus\":[[0.0,\"#0d0887\"],[0.1111111111111111,\"#46039f\"],[0.2222222222222222,\"#7201a8\"],[0.3333333333333333,\"#9c179e\"],[0.4444444444444444,\"#bd3786\"],[0.5555555555555556,\"#d8576b\"],[0.6666666666666666,\"#ed7953\"],[0.7777777777777778,\"#fb9f3a\"],[0.8888888888888888,\"#fdca26\"],[1.0,\"#f0f921\"]]},\"colorway\":[\"#636efa\",\"#EF553B\",\"#00cc96\",\"#ab63fa\",\"#FFA15A\",\"#19d3f3\",\"#FF6692\",\"#B6E880\",\"#FF97FF\",\"#FECB52\"],\"font\":{\"color\":\"#2a3f5f\"},\"geo\":{\"bgcolor\":\"white\",\"lakecolor\":\"white\",\"landcolor\":\"white\",\"showlakes\":true,\"showland\":true,\"subunitcolor\":\"#C8D4E3\"},\"hoverlabel\":{\"align\":\"left\"},\"hovermode\":\"closest\",\"mapbox\":{\"style\":\"light\"},\"paper_bgcolor\":\"white\",\"plot_bgcolor\":\"white\",\"polar\":{\"angularaxis\":{\"gridcolor\":\"#EBF0F8\",\"linecolor\":\"#EBF0F8\",\"ticks\":\"\"},\"bgcolor\":\"white\",\"radialaxis\":{\"gridcolor\":\"#EBF0F8\",\"linecolor\":\"#EBF0F8\",\"ticks\":\"\"}},\"scene\":{\"xaxis\":{\"backgroundcolor\":\"white\",\"gridcolor\":\"#DFE8F3\",\"gridwidth\":2,\"linecolor\":\"#EBF0F8\",\"showbackground\":true,\"ticks\":\"\",\"zerolinecolor\":\"#EBF0F8\"},\"yaxis\":{\"backgroundcolor\":\"white\",\"gridcolor\":\"#DFE8F3\",\"gridwidth\":2,\"linecolor\":\"#EBF0F8\",\"showbackground\":true,\"ticks\":\"\",\"zerolinecolor\":\"#EBF0F8\"},\"zaxis\":{\"backgroundcolor\":\"white\",\"gridcolor\":\"#DFE8F3\",\"gridwidth\":2,\"linecolor\":\"#EBF0F8\",\"showbackground\":true,\"ticks\":\"\",\"zerolinecolor\":\"#EBF0F8\"}},\"shapedefaults\":{\"line\":{\"color\":\"#2a3f5f\"}},\"ternary\":{\"aaxis\":{\"gridcolor\":\"#DFE8F3\",\"linecolor\":\"#A2B1C6\",\"ticks\":\"\"},\"baxis\":{\"gridcolor\":\"#DFE8F3\",\"linecolor\":\"#A2B1C6\",\"ticks\":\"\"},\"bgcolor\":\"white\",\"caxis\":{\"gridcolor\":\"#DFE8F3\",\"linecolor\":\"#A2B1C6\",\"ticks\":\"\"}},\"title\":{\"x\":0.05},\"xaxis\":{\"automargin\":true,\"gridcolor\":\"#EBF0F8\",\"linecolor\":\"#EBF0F8\",\"ticks\":\"\",\"title\":{\"standoff\":15},\"zerolinecolor\":\"#EBF0F8\",\"zerolinewidth\":2},\"yaxis\":{\"automargin\":true,\"gridcolor\":\"#EBF0F8\",\"linecolor\":\"#EBF0F8\",\"ticks\":\"\",\"title\":{\"standoff\":15},\"zerolinecolor\":\"#EBF0F8\",\"zerolinewidth\":2}}},\"xaxis\":{\"showline\":false,\"showgrid\":false,\"showticklabels\":false,\"range\":[0,42]},\"yaxis\":{\"showline\":false,\"showgrid\":false,\"showticklabels\":false,\"autorange\":\"reversed\",\"range\":[0,80],\"scaleanchor\":\"x\",\"scaleratio\":0.7},\"margin\":{\"l\":20,\"r\":20,\"t\":20,\"b\":20},\"autosize\":false,\"width\":588,\"height\":700,\"images\":[{\"layer\":\"below\",\"opacity\":0.9,\"sizex\":42,\"sizey\":80,\"sizing\":\"contain\",\"source\":\"data:image\\u002fpng;base64,iVBORw0KGgoAAAANSUhEUgAAAhcAAALRCAYAAADoaIHhAAAlFUlEQVR4nO3deZhWBd3\\u002f8e8szLCowIC7rALiUu7ilhqmuOeSZpnV70mzLEtzL7fMPTPL0odWTVNLLVNzAxVz35dc2FdBZRMGUAZm+f1BzCMKONoXziyv13V5OcOMF5\\u002fxGuZ+c859zl1y4AEHNkRE1NQsCgCApqqsrIiIiLnV85b59ZJFc6Y1FDEIAGgdDvvKccsERmmBWwCAVqh86RuHfeU4p0YAgCaprKyI224YGhEffmpFY1zU1CyKhTU1q3cZANDqOC0CAKQSFwBAKnEBAKQSFwBAKnEBAKQSFwBAKnEBAKQSFwBAKnEBAKQSFwBAKnEBAKQSFwBAKnEBAKQSFwBAKnEBAKQSFwBAKnEBAKQSFwBAKnEBAKQSFwBAKnEBAKQSFwBAKnEBAKQSFwBAKnEBAKQSFwBAKnEBAKQSFwBAKnEBAKQSFwBAKnEBAKQSFwBAKnEBAKQSFwBAKnEBAKQSFwBAKnEBAKQSFwBAKnEBAKQSFwBAKnEBAKQSFwBAKnEBAKQSFwBAKnEBAKQSFwBAKnEBAKQSFwBAKnEBAKQSFwBAKnEBAKQSFwBAKnEBAKQSFwBAKnEBAKQSFwBAKnEBAKQSFwBAKnEBAKQSFwBAKnEBAKQSFwBAKnEBAKQSFwBAKnEBAKQSFwBAKnEBAKQSFwBAKnEBAKQSFwBAKnEBAKQSFwBAKnEBAKQSFwBAKnEBAKQSFwBAKnEBAKQSFwBAKnEBAKQSFwBAKnEBAKQSFwBAKnEBAKQSFwBAKnEBAKQSFwBAKnEBAKQSFwBAKnEBAKQSFwBAKnEBAKQSFwBAKnEBAKQSFwBAKnEBAKQSFwBAKnEBAKQSFwBAKnEBAKQSFwBAKnEBAKQSFwBAKnEBAKQSFwBAKnEBAKQSFwBAKnEBAKQSFwBAKnEBAKQSFwBAKnEBAKQSFwBAKnEBAKQSFwBAKnEBAKQSFwBAKnEBAKQSFwBAKnEBAKQSFwBAKnEBAKQSFwBAKnEBAKQSFwBAKnEBAKQSFwBAKnEBAKQSFwBAKnEBAKQSFwBAKnEBAKQSFwBAKnEBAKQSFwBAKnEBAKQSFwBAKnEBAKQSFwBAKnEBAKQSFwBAKnEBAKQSFwBAKnEBAKQSFwBAKnEBAKQSFwBAKnEBAKQSFwBAKnEBAKQSFwBAKnEBAKQSFwBAKnEBAKQSFwBAKnEBAKQSFwBAKnEBAKQSFwBAKnEBAKQSFwBAKnEBAKQSFwBAKnEBAKQSFwBAKnEBAKQSFwBAKnEBAKQSFwBAKnEBAKQSFwBAKnEBAKQSFwBAKnEBAKQSFwBAKnEBAKQSFwBAKnEBAKQSFwBAKnEBAKQSFwBAKnEBAKQSFwBAKnEBAKQSFwBAKnEBAKQSFwBAKnEBAKQSFwBAKnEBAKQSFwBAKnEBAKQSFwBAKnEBAKQqL3oAAM1f57XWjIiImppFBS+huaisrFjhx8QFACvVea0147YbhhY9g2assrIiFtbUNL7vtAgAkMqRCwBW6v2nQg77ynFOjRARS45WLD2i9cHvCXEBQJPV1Cxa5vA3LI\\u002fTIgBAKnEBAKQSFwBAKnEBAKQSFwBAKnEBAKQSFwBAKnEBAKQSFwBAKnEBAKQSFwBAKnEBAKQSFwBAKnEBAKQSFwBAKnEBAKQSFwBAKnEBAKQSFwBAKnEBAKQSFwBAKnEBAKQSFwBAKnEBAKQSFwBAKnEBAKQSFwBAKnEBAKQSFwBAKnEBAKQSFwBAKnEBAKQSFwBAKnEBAKQSFwBAKnEBAKQSFwBAKnEBAKQSFwBAKnEBAKQSFwBAKnEBAKQSFwBAKnEBAKQSFwBAKnEBAKQSFwBAKnEBAKQSFwBAKnEBAKQSFwBAKnEBAKQSFwBAKnEBAKQSFwBAKnEBAKQSFwBAKnEBAKQSFwBAKnEBAKQSFwBAKnEBAKQSFwBAKnEBAKQSFwBAKnEBAKQSFwBAKnEBAKQSFwBAKnEBAKQSFwBAKnEBAKQSFwBAKnEBAKQSFwBAKnEBAKQSFwBAKnEBAKQSFwBAKnEBAKQSFwBAKnEBAKQqX\\u002frGLX+6Jurq6qKuvj4WLHg3Zr8zp\\u002fGfWe\\u002fMidmzl7z99oyZ8cbUN6O+vr7I3QDQqnRea82IiKipWVTwkqaprKxY4cca4+L6v\\u002fwtGuobory8LDp16hhVXbtEVdcu0WPD9aOqqmvjFx2x5AsfP3FSjBk3McaOnxhjxk2MiZOmxOLa2lX7lQBAK9R5rTXjthuGFj3jE6usrIiFNTWN7zfGxR3\\u002fHLbMBz6ovLwsunbpHOuvu07027h39O\\u002fbJz61+cDYf8ieUVZWGrW1tTF+4pR45vmX4slnXohRY8ZGfX3Dqv1qAIBmp\\u002fyjP2WJ2tq6mDFzdsyYOTtefnVk469XVlRE3z49o3\\u002ff3rHZpgPigH32jKOOODjmzK2Op597MZ585oV47oWXY8G7762SLwAAWrr3nwo57CvHtYhTI5WVFY1HWz64t8lxsSI1ixbF66PGxuujxsYd9wyP0tKSGDigX+y4\\u002fTax4\\u002fZbx96Dd4va2tp4+ZWRcfewh+KxJ55x+gQAVqCmZtFKzyS0BP91XHxQfX1DvDZyTLw2ckz84fq\\u002fxDrdu8Wg7beOPXbdMc469YSYM7c67nvg4fjnfQ\\u002fGtDffzv7tAYCCpcfFB02fOSvuvGd43HnP8Oi50Qax\\u002f5DBse9en40vHnpgPPfiv+Ouex+Ix596Lurq6lb1FABgNVit97mY\\u002fMa0uOb3N8SR\\u002f+87cckVV0dlRUWce8aJ8aehV8Q+e+0RpaVuuwEALd0qP3KxPIsWLY7hIx6N4SMejT69esRRRxwcp5zwzTjy0APjuptujRGPPBkNDa40AYCWqPBDBRMmTYkLfnpVfOvEM+ONaW\\u002fGj045IYb+4uLYedC2RU8DAD6BwuNiqbHjJ8VZP7k8Tjj13JhbPS\\u002fO\\u002f9HJcdVPz49+fXsXPQ0A+BiaTVws9fqoMXHqWRfGKWddEBUV7eLXP\\u002ftJfOOrX4yKinZFTwMAmqDZxcVSL778Whz\\u002fg7PiuhtvjcM+v18MvfLi2GLTTYqeBQB8hGYbFxERdXV1ceMt\\u002f4hvff\\u002fMqJ43P6689Nz47nFfjw4d2hc9DQBYgWYdF0tNfmNanHTmj+NXQ6+NIYN3i9\\u002f\\u002f6rLYdJP+Rc8CAJajRcRFxJI7f97+z\\u002fvjmBNOi+kzZsUVF50d+w8ZXPQsAOADWkxcLPX29JlxylkXxN33PxgnfeeYOOk7x0S78kJu1wEALEeLi4uIJa\\u002fQetXQa+PyXw6NvQZ\\u002fJn520dnRrapL0bMAWo0jDj0gBm23VdEzaKFaZFwsde\\u002fwh+OkM86PtbtXxdVXXBibbzqg6EkALVp5eVmcfMKx8c2vfzn69ulV9BxaqBYdFxERo8aMi2\\u002f\\u002f4EfxxrS34qc\\u002f+WHstMM2RU8CaJHW6NQpLjnvjNhzj13jkiuujptu+UfRk2ihWnxcRETMmVMdp59zUTzxzAtx3pknxeDddi56EkCL0qlTx7j0\\u002fDOib++ecdrZF8XwEY8WPYkWrFXERcSS52Fc+NOrYthDj8QZPzg+9tv7s0VPAmgROnboEJecd3pssP56cdo5F8Urr40qehItXKu6zKK+vj5+dtVvY+HCmvjBd4+NhoaGuGfYiKJnATRbHTq0j4vOOy16bLhBnHbORTF2\\u002fKSiJ9EKtKq4iIhoaGiIX\\u002f3muigpKYmTT\\u002fhmNETEvQID4EPaV1bGheecGn169YjTz7k4Ro+dUPQkWolWFxdLXTX02igpKYkffOeYqK6eH48\\u002f9WzRkwCajcqKivjJ2adEvz6944zzLomRo8cVPYlWpNU852J5rhp6bTzyxDNx5snHR7++LqkCiIgoLS2NH\\u002f\\u002fwBzFwwMbxw\\u002fMvi9dGjil6Eq1Mq46LhoaGuOzn18TkKdPiJ2ed4kZbABFx7Ne\\u002fFFt9erM4+4LLPXmTVaJVx0VERM2iRXHOhZdHRMT5Pzo5KisqCl4EUJw9PrNTHH7w\\u002fvG\\u002ff\\u002fhzvPjya0XPoZVq9XERETFr9pw4+4KfRc8eG8ZpJ307SkpKip4EsNr16dUjTj7h2Bg+4tG4\\u002fa77ip5DK9Ym4iIiYuz4iXHJFVfH7rsMiqOPPLToOQCrVadOHeO8H54U0958O37+q98VPYdWrs3ERUTEY08+G3\\u002f88y1x1BGHxGYD+xc9B2C1KCkpiTN\\u002fcHysteaacd7FP4+aRYuKnkQr16biIiLiplv+EaPGjIvTT\\u002fp2tG9fWfQcgFXuqCMOjh223SouuvxX8eZb04ueQxvQ5uKivr4+Lv35NVHVtUt88+tfLnoOwCrVr2+vOPrIQ+OGv\\u002fw9nnn+paLn0Ea0ubiIiJj65lvx22tvioP22yu23epTRc8BWCVKS0vixOOPiclTpsaf\\u002f3p70XNoQ9pkXERE3HnP8Hj2hZfjlO99M9bo1KnoOQDpDtjnczFwwMbx86t\\u002fH3V1dUXPoQ1ps3HR0NAQl\\u002f\\u002fyN9Ghffs4\\u002ftiji54DkKpbVZf4xle\\u002fGHfd+4A7cLLatdm4iIiYOWt2\\u002fObaG2PvwbvFgH59ip4DkOb4Y74aixYtjt9dd3PRU2iD2nRcRETcO3xETJg0xZM7gVZjh223it133TGu+d31MX\\u002fBgqLn0Aa1+bior2+I3157U2z16c1j0HZbFT0H4L\\u002fSrl27OOFbX49nX3g5HvzX40XPoY1q83EREfH0cy\\u002fGCy+\\u002fGsd+\\u002fctRWup\\u002fCdBy7T9kcKzTvVtcNfTaoqfQhnkk\\u002fY\\u002ff\\u002fPHG6N1zoxiy525FTwH4RCoq2sWXvnBQDB\\u002fxaEyd9lbRc2jDxMV\\u002fjBk3IR4Y8Vh87cuHR\\u002ftKd+4EWp79h+wZXTqv5Z4WFE5cvM8f\\u002f\\u002fzX6Nqlc+w1+DNFTwH4WNqVl8cXDz0who94NKa9+XbRc2jjxMX7vPX2jHj8qWfj8\\u002fvvXfQUgI9lzz12ie7dusbNt95Z9BQQFx90+133Re+eG8XWn9686CkATVJSUhKHH7x\\u002fPP7UszFl6rSi54C4+KCXXnk9JkycHAcfMKToKQBNssO2W0avnhvFX\\u002f\\u002f2z6KnQESIi+W6\\u002fZ\\u002f3x47bbxPrrtO96CkAH2m\\u002fvQfHqDHj45XXRxU9BSJCXCzXAyMei3ffey8O2m+voqcArFSnTh1j+223jAcefrToKdBIXCzHwpqauHf4iNh3r89GeXlZ0XMAVugzO20f5WVl8fCjTxY9BRqJixUY9uAjsdaaa8SWW2xW9BSAFfrsbjvHS6+8HrNmzyl6CjQSFyswfuLkePPt6bHLjtsVPQVgubp26RxbfWrzePDhx4qeAssQFyvx+JPPxs6Dto2SkpKipwB8yO677hj19fXxyOPPFD0FliEuVuKxJ5+N7t2qYkC\\u002fvkVPAfiQwbvtHM88\\u002f5KXVafZERcr8crro2Nu9TynRoBmp3u3qthsYP8Y8cgTRU+BDxEXK1FfXx9PPP187DJo26KnACzjU5tvEhERz73474KXwIeJi4\\u002fwxNPPRa+eG7mhFtCsbD5wQLwx9c2YWz2v6CnwIeLiI7z6+uiIiBjYf+OClwD8n80GDohX\\u002fvPzCZobcfER5sytjrenz4gB\\u002fT2pE2ge2revjI379IzXRooLmidx0QSjx06ITVwxAjQTAwdsHGVlZY1HVqG5ERdNMGrMuOjfr4\\u002f7XQDNwuYDB8T8+Qti8hteXp3mSVw0weixE6JTx46x0QbrFz0FIDYbOCBeGzUmGhoaip4CyyUummD02AkRETGgf5+ClwBE9N+4d4wcPa7oGbBC4qIJ5i9YENPefDs27tOr6ClAG9euvDyqunaJt6fPLHoKrJC4aKLpM2ZG925VRc8A2rilP4dmzJxV8BJYMXHRRLNmz4luVV2LngG0cWt3XxIX08UFzZi4aKJZs98RF0Dh1l67W0REzJw5u+AlsGLlS9+44uJzYsQjT8R9DzzsdrLLsSQuuhQ9A2jj1uneLarnzY+FNTVFT2l2SkpKYqtPbRb7Dxkc\\u002fTbuHe3K28U7c+bGw48+Gfc98K+onuexbXVpjIt+fXtHv7694n+OPiL+8re74to\\u002f3+Iyp\\u002feZOWt2dGjfPjp17BAL3n2v6DlAG9W9W5XnWyxHn1494rwzT4oNN1gvamvrory8LCIi1lm7Wwzo1ye+8dUvxs233RnX3Xirx7bVoPG0SGlpSZSWlkZ5eXl8+fDPx8knHFvkrmZn1uw5ERFOjQCFWrt7N3HxAf369o5fXvbjWG\\u002fdtSMiGsMiYsnRjKWPbUcdcXCc9J1jiprZpiz3ORclJSWxz+f2iH322mM1z2m+Zs+ZExERXbt2KXQH0LZ1XmvNmDPX4f2lysvL4oKzT42KinZRVla20s8tKSmJ\\u002ffb+bOw9eLfVtK7tWuETOuvr6+Pwg\\u002fdfnVuatUWLFkdEREW78o\\u002f4TIBVp7y8PGpra4ue0WzsutMO0b1b148Mi6Xq6+vj8EM8tq1qK4yL0tLS6NVjw9his01W555mq66uLiIiSkub9g0MsCqUl5dF7X9+HhFxyAFDGn8+N0VpaWn06dUjNhvYfxWuYqWXojY0NESvHhuuri3N2tJv3vefywNY3crLyqLOkYtGvXpu2OSjFsv8dx7bVqmPjIt25U4DRETjs4tLvTIqUKSSknCxw\\u002f\\u002f5JGHhsW3VW2lclJaWxqzZ76yuLc3a0m9ghyOBItXV1UVZmfsfLvXOO3M\\u002f9qWlJSUlMfM\\u002fVwCyaqz0O3T+\\u002fAXx1HMvrqYpzdvSP8y1teICKM6Sezj4W\\u002fdS9wwf8bHjYt78+fHM8y+tokVErCQu6urq4q57H2i8SqKtW\\u002fqHua5eXADFqaur\\u002fUSnAlqru+97MOrq6pv8+XV1dXHH3cNj8WKPbavScuOitrYu3nxretx8252re0+z1XmtNSMiotqt0YECvfvewlijU8eiZzQbc6vnxTW\\u002fv75Jn1tbVxdvTHsr\\u002fvr3u1bxKpaJi6VXREya8kac\\u002fKOfxPwFCwoZ1RwtvTPnTM9BAQo0Y+asxldGZYk77h4Wvxp6bdTX1y\\u002f3eXFLH9smTJwSp\\u002fzogliw4N3VPbHNWebE3cjR4+KOe4bFvx572iGjD+hW1TXq6upirjvjAQWaMXN2bLf1p4ue0ezc\\u002fs\\u002f74\\u002fmXX40DhuwZ+3xu9+jYsUPjx14fNTbuuHtYPPL407HYZbyrRWNcHHXM9+Lt6TOL3NKsde9WFbNmz\\u002fGCN0ChZsycFVVdu0RZWdnHunlUWzB5ytS4+nd\\u002fit9ed1N079Y12rVrF9XV82LO3Oqip7U5jXHhb+Qr162qi8tygcLNmDkrSktLo1vXLjHdC5gt1+LFi+PNt6YXPaNNc7F0E3Wr6iougMJNn7EkKNZeu1vBS2DFxEUTLTktIi6AYs2YOTsilrz0OjRX4qIJ2pWXR48NN4jJb0wregrQxr373nux4N13Yx1xQTMmLpqgT+8e0a5deYweO77oKQAxecrU6NunZ9EzYIXERRMM6Nc3amtrY9yESUVPAYhXXx8Tm286oOgZsELiogk26d83Jk5+w63QgWbh1ZGjY\\u002f1114luVV2KngLLJS6aYEC\\u002fvjF6jFMiQPPw2sjRERGx2Sb9C14CyycuPkJlRUX07rlRjPJ8C6CZmDV7Trz59vTYzKkRmilx8RH6b9wnysrKYpQjF0Az8trrY2ILcUEzJS4+wg7bbRVzq+fF+ImTi54C0OjVkaOjX98+UVHRrugp8CHi4iPsMmjbeOLp56O+vr7oKQCNXhs5Otq1K49NPe+CZkhcrMRGG64fvXpuFI8\\u002f9WzRUwCWMW7C5Jg+Y2bsseuORU+BDxEXK7HzoG1jYU1NPPfCv4ueArCMhoaGeOiRJ2K3XQZFWVlZ0XNgGeJiJXYZtF08+\\u002fzLUbNoUdFTAD7kwYcfj85rrRnbbLlF0VNgGeJiBaq6dolNN+kXjzklAjRT4yZMiklTpsbg3XYuegosQ1yswGd23iEaGhriqWdeKHoKwAo99K\\u002fHY5cdt3PVCM2KuFiBg\\u002fbbKx578tmonje\\u002f6CkAK\\u002fTQv56Ijh07xKDtti56CjQSF8uxzZZbRK8eG8btd91X9BSAlZr65lsxasy4GLy7UyM0H+JiOQ4+YO8YP3FyvPzqyKKnAHykYQ8+Ejttv02s3b2q6CkQEeLiQ9Zbd+3YcfttHLUAWox7H3g43ltYE4cetG\\u002fRUyAixMWHHLTvXjF\\u002fwbvxwIjHip4C0CQLF9bEnfcMj\\u002f33HhydOnUseg6Ii\\u002fdrX1kZ++y1R9w7bIR7WwAtyu133Rfl7crjoH0\\u002fV\\u002fQUEBfvd8hB+0SH9u3jH3ffX\\u002fQUgI9l9jtz4r7hD8cXDt4\\u002fOnRoX\\u002fQc2jhx8R+d11ozjjzswLjj7vvj7ekzi54D8LHdeMvt0bFDh\\u002fj8fnsVPYU2Tlz8x9FHHhoN9Q3x57\\u002feXvQUgE9kxszZcc+wh+KIQw5w9IJCiYuI2HD99eKAffaMG2\\u002f9h5tmAS3aTbf+I9q3r4yjjji46Cm0YeIiIv7nq1+M2e\\u002fMcfkp0OLNmDk7bvjL3+Pwg\\u002fePPr17FD2HNqrNx8Wmm\\u002fSL3XcZFH+84ZZYtGhx0XMA\\u002fmt\\u002f\\u002fftd8cbUN+Ok44+JkpKSoufQBrXpuCgvL4vvf\\u002ft\\u002fYuz4ifHAw48WPQcgRW1tXVx5zR9is4H9Y\\u002f8hg4ueQxvUpuPi6CMPi949N4rLfzk06usbip4DkObfr46Me4Y9FMd89cjo2qVz0XNoY9psXGy6Sf848rCD4k833RZjx08qeg5Aut9ee1PU1tXFt485uugptDFtMi7aV1bG6Sd+K0aPHRc333Zn0XMAVonqefNj6B\\u002f+HIN32zl22HaroufQhrTJuDjma0dG9+5VcemV\\u002fxv19fVFzwFYZYY99Eg88\\u002fxLcfpJ34511u5e9BzaiDYXF9tstUUcfMCQ+N21N8UbU98seg7AKnfxz66O995bGOeecWK0a9eu6Dm0AW0qLtZfd5344cnfjede\\u002fHf84+5hRc8BWC2q582L8y7+efTuuVF871tfL3oObUCbiYtOHTvET84+JeYveDcu\\u002fOlV0dDg6hCg7Rg7fmJcec3vY9+9PuvyVFa58qIHrA6lpaVx1mnfi+5VXeOEU891i2+gTRr24CMxsP\\u002fG8Z1vfi3GTZgUI0ePK3oSrVSbOHLx7W98JbbZcos4\\u002f9JfxJSp04qeA1CYa35\\u002ffYwZOyHOPePE6NJlraLn0Eq1+rg4aN\\u002fPxSEH7hNXDb02nn\\u002fplaLnABSqtrYuzr\\u002f0yigtLY1Lzjsj1lpzjaIn0Qq16rjYaYdt4jvf\\u002fFr87Y574657Hyh6DkCzMGv2nDjt7IuiW1XXuPT8M2ONTp2KnkQr02rjYsftt4lzTj8xHnvy2fjfP9xQ9ByAZmXSlKlx2jkXxTprd49Lzz8jOnXqWPQkWpFWGReDtts6zj3jxHjymefjwst\\u002f5UZZAMsxYeKUOO3si2L99daNS847PTp26FD0JFqJVhcXn9l5hzjvzJPiyWefjwt+elXU1dUVPQmg2Ro3YVKcfs7F0WPDDeKi806LDh3aFz2JVqBVxcWQPXePs079XvzrsafigsuEBUBTjBk3IU4\\u002f95Lo07NHXHjOqU6R8F9rNXHxpS8cFKd+\\u002f7i4+\\u002f4H49IrrxYWAB\\u002fDqDHj4ozzLo3ePXvELy\\u002f7cay\\u002f3jpFT6IFa\\u002fFx0b59ZZx9+vfjG189Mq6\\u002f+W\\u002fxi2v+EPX17r4J8HG9PmpMnHDqOVFWVhZX\\u002ffT82HzTAUVPooVq0XGxwfrrxlWX\\u002fTi23\\u002frTce5FV8R1N95a9CSAFm3qtLfie6eeE5MmvxE7bb9N0XNooVrs7b+332bL+OEp3405c+bGd089JyZPmVr0JIBWoXre\\u002fDj93Itdaccn1uLioqSkJI78wkHx\\u002f446PJ569sW45Ipfx4J33yt6FkCrUlvreWt8ci0qLjbacP04+bvHxqc2Hxh\\u002fuum2uP7mv3l1UwBoZlpEXJSVlcURh+wfRx95aEyfMStOOvP8+PerI4ueBQAsR7OPi359e8Up3zsu+vTqGbfcflf86abbYtGixUXPAgBWoNnGRfvKyvjyEQfHFw89ICZOfiNOOPXsGD12QtGzAICP0Oziol27dnHgvnvGl77w+ejUqWP86abb4ubb7nRTLABoIZpNXJSVlcU+n9s9jjrikOhW1TXuf\\u002fDhuP7mv8f0GTOLngYAfAyFx0VpaUns8Zmd42tfPiw2XH+9ePBfj8d1N94aU6e9VfQ0AOATKCwuunReK4bsuXvsN+SzseH668XjTz0XP774yhg\\u002fcXJRkwCABKs9Lrb81GZxwJA9Y9edto+Ghvp4+LGn4qLLfx2jxoxb3VMAgFVgtcRF925VsfuuO8b+QwZHz402iMlvTIvfXXdTDHvokaieN391TAAAVpNVEhelpSWxSf+NY8ftto5B228d\\u002ffr2jsWLa+ORJ56OX1z9+3jplddXxW8LADQDaXHRvVtVbDawfwzabqvYYdutomuXzlFdPS+efv6luPm2O+PZ51+O+QsWZP12ANAqVVZWFD2hSVa28xPFxfrrrhP9Nu4d\\u002fTfuE\\u002f037h39+vaOrl06R0TEhImT497hI+LJZ16I10eNifp6r\\u002f0BACvz\\u002fgfq224YWuCST6aysiIW1tQ0vt8YF+uts3YsrquNsrKyWHONTlHVpXNUVXWNqq5doltVl+jaZcm\\u002f11tn7VhjjU4RETFj5qwYO35S3HnP8Bg7fmKMHjshZs6avfq\\u002fKgCg2WiMi9\\u002f9+rIPfXDx4tqY\\u002fc47MfudOTH7nbnx+qix8fCjT8bY8RNjzPiJMWdO9WodCwCt0dzqeXHYV46LiIiamkUFr2maysqKxqMsH9zcGBc\\u002f\\u002fPGl8d7Cmqivr48FC96N2e\\u002fMcSUHAKwmc6vnFT0hTWNcvPzKyGXOlwAAfBKlRQ8AAFoXcQEApBIXAEAqcQEApBIXAEAqcQEApBIXAEAqcQEApBIXAEAqcQEApBIXAEAqcQEApBIXAEAqcQEApBIXAEAqcQEApBIXAEAqcQEApBIXAEAqcQEApBIXAEAqcQEApBIXAEAqcQEApBIXAEAqcQEApBIXAEAqcQEApBIXAEAqcQEApBIXAEAqcQEApBIXAEAqcQEApBIXAEAqcQEApBIXAEAqcQEApBIXAEAqcQEApBIXAEAqcQEApBIXAEAqcQEApBIXAEAqcQEApBIXAEAqcQEApBIXAEAqcQEApBIXAEAqcQEApBIXAEAqcQEApBIXAEAqcQEApBIXAEAqcQEApBIXAEAqcQEApBIXAEAqcQEApBIXAEAqcQEApBIXAEAqcQEApBIXAEAqcQEApBIXAEAqcQEApBIXAEAqcQEApBIXAEAqcQEApBIXAEAqcQEApBIXAEAqcQEApBIXAEAqcQEApBIXAECq8qIHANByVFZWFD2BZmJl3wviAoCVev+DyG03DC1wCc1VZWVFLKypaXzfaREAIJUjFwCs1NzqeXHYV46LiIiamkUFr6G5qKysaDyS9cHvC3EBwEeaWz2v6Am0IE6LAACpxAUAkEpcAACpxAUAkEpcAACpxAUAkEpcAACpxAUAkEpcAACpxAUAkEpcAACpxAUAkEpcAACpxAUAkEpcAACpxAUAkEpcAACpxAUAkEpcAACpxAUAkEpcAACpxAUAkEpcAACpxAUAkEpcAACpxAUAkEpcAACpxAUAkEpcAACpxAUAkEpcAACpxAUAkEpcAACpxAUAkEpcAACpxAUAkEpcAACpxAUAkEpcAACpxAUAkEpcAACpxAUAkEpcAACpxAUAkEpcAACpxAUAkEpcAACpxAUAkEpcAACpxAUAkEpcAACpxAUAkEpcAACpxAUAkEpcAACpxAUAkEpcAACpxAUAkEpcAACpxAUAkEpcAACpxAUAkEpcAACpxAUAkEpcAACpxAUAkEpcAACpxAUAkEpcAACpxAUAkEpcAACpxAUAkEpcAACpxAUAkEpcAACpxAUAkEpcAACpxAUAkEpcAACpxAUAkEpcAACpxAUAkEpcAACpxAUAkEpcAACpxAUAkEpcAACpxAUAkEpcAACpxAUAkEpcAACpxAUAkEpcAACpxAUAkEpcAACpxAUAkEpcAACpxAUAkEpcAACpxAUAkEpcAACpxAUAkEpcAACpxAUAkEpcAACpxAUAkEpcAACpxAUAkEpcAACpxAUAkEpcAACpxAUAkEpcAACpxAUAkEpcAACpxAUAkEpcAACpxAUAkEpcAACpxAUAkEpcAACpxAUAkEpcAACpxAUAkEpcAACpxAUAkEpcAACpxAUAkEpcAACpxAUAkEpcAACpxAUAkEpcAACpxAUAkEpcAACpxAUAkEpcAACpxAUAkEpcAACpxAUAkEpcAACpxAUAkEpcAACpxAUAkEpcAACpxAUAkEpcAACpxAUAkEpcAACpxAUAkEpcAACpxAUAkEpcAACpxAUAkEpcAACpxAUAkEpcAACpxAUAkEpcAACpxAUAkEpcAACpxAUAkEpcAACpxAUAkEpcAACpxAUAkEpcAACpxAUAkEpcAACpxAUAkEpcAACpxAUAkEpcAACpxAUAkEpcAACpxAUAkEpcAACpxAUAkEpcAACpxAUAkEpcAACpxAUAkEpcAACpxAUAkEpcAACpxAUAkEpcAACpxAUAkEpcAACpxAUAkEpcAACpxAUAkEpcAACpype+UVlZUeQOAKAFWVk3NMbFbTcMXS1jAIDWpbKyIhbW1DS+77QIAJCq5MADDmyIiKipWVT0FgCgBVl6amRu9bxlfr38g78AANAU7z8V8n5OiwAAqcQFAJBKXAAAqcQFAJDq\\u002fwO+bOgg0zXjEwAAAABJRU5ErkJggg==\",\"x\":0,\"xref\":\"x\",\"y\":0,\"yref\":\"y\"}]},                        {\"responsive\": true}                    ).then(function(){\n",
       "                            \n",
       "var gd = document.getElementById('c719dbcb-30d6-401b-9053-ab74345682a8');\n",
       "var x = new MutationObserver(function (mutations, observer) {{\n",
       "        var display = window.getComputedStyle(gd).display;\n",
       "        if (!display || display === 'none') {{\n",
       "            console.log([gd, 'removed!']);\n",
       "            Plotly.purge(gd);\n",
       "            observer.disconnect();\n",
       "        }}\n",
       "}});\n",
       "\n",
       "// Listen for the removal of the full notebook cells\n",
       "var notebookContainer = gd.closest('#notebook-container');\n",
       "if (notebookContainer) {{\n",
       "    x.observe(notebookContainer, {childList: true});\n",
       "}}\n",
       "\n",
       "// Listen for the clearing of the current output cell\n",
       "var outputEl = gd.closest('.output');\n",
       "if (outputEl) {{\n",
       "    x.observe(outputEl, {childList: true});\n",
       "}}\n",
       "\n",
       "                        })                };                });            </script>        </div>"
      ]
     },
     "metadata": {},
     "output_type": "display_data"
    }
   ],
   "source": [
    "PlayerNamesExample = ['Lionel Messi']#, \"Rodrigo Javier De Paul\"]\n",
    "a = makePitch(PlayerNamesExample)\n",
    "a.show()"
   ]
  },
  {
   "cell_type": "code",
   "execution_count": 185,
   "id": "46b076f7",
   "metadata": {},
   "outputs": [
    {
     "data": {
      "application/vnd.plotly.v1+json": {
       "config": {
        "plotlyServerURL": "https://plot.ly"
       },
       "data": [
        {
         "line": {
          "color": "rgba (255, 255, 255, 1)",
          "dash": "solid",
          "width": 3
         },
         "mode": "lines",
         "name": "_child0",
         "type": "scatter",
         "x": [
          25,
          60
         ],
         "xaxis": "x",
         "y": [
          0,
          0
         ],
         "yaxis": "y"
        },
        {
         "line": {
          "color": "rgba (255, 255, 255, 1)",
          "dash": "solid",
          "width": 3
         },
         "mode": "lines",
         "name": "_child1",
         "type": "scatter",
         "x": [
          36,
          36
         ],
         "xaxis": "x",
         "y": [
          0,
          2.66
         ],
         "yaxis": "y"
        },
        {
         "line": {
          "color": "rgba (255, 255, 255, 1)",
          "dash": "solid",
          "width": 3
         },
         "mode": "lines",
         "name": "_child2",
         "type": "scatter",
         "x": [
          44,
          44
         ],
         "xaxis": "x",
         "y": [
          0,
          2.66
         ],
         "yaxis": "y"
        },
        {
         "line": {
          "color": "rgba (255, 255, 255, 1)",
          "dash": "solid",
          "width": 3
         },
         "mode": "lines",
         "name": "_child3",
         "type": "scatter",
         "x": [
          36,
          44
         ],
         "xaxis": "x",
         "y": [
          2.66,
          2.66
         ],
         "yaxis": "y"
        },
        {
         "marker": {
          "color": "#008000",
          "line": {
           "color": "#008000",
           "width": 1
          },
          "opacity": 1,
          "size": 15,
          "symbol": "circle"
         },
         "mode": "markers",
         "name": "_child4",
         "type": "scatter",
         "x": [
          41.8
         ],
         "xaxis": "x",
         "y": [
          0.2
         ],
         "yaxis": "y"
        },
        {
         "marker": {
          "color": "#FF0000",
          "line": {
           "color": "#FF0000",
           "width": 1
          },
          "opacity": 1,
          "size": 15,
          "symbol": "circle"
         },
         "mode": "markers",
         "name": "_child6",
         "type": "scatter",
         "x": [
          45.5
         ],
         "xaxis": "x",
         "y": [
          1.5
         ],
         "yaxis": "y"
        },
        {
         "marker": {
          "color": "#FFA500",
          "line": {
           "color": "#FFA500",
           "width": 1
          },
          "opacity": 1,
          "size": 15,
          "symbol": "circle"
         },
         "mode": "markers",
         "name": "_child8",
         "type": "scatter",
         "x": [
          39.3
         ],
         "xaxis": "x",
         "y": [
          2.3
         ],
         "yaxis": "y"
        },
        {
         "marker": {
          "color": "#FFA500",
          "line": {
           "color": "#FFA500",
           "width": 1
          },
          "opacity": 1,
          "size": 15,
          "symbol": "circle"
         },
         "mode": "markers",
         "name": "_child10",
         "type": "scatter",
         "x": [
          43.9
         ],
         "xaxis": "x",
         "y": [
          0.2
         ],
         "yaxis": "y"
        },
        {
         "marker": {
          "color": "#008000",
          "line": {
           "color": "#008000",
           "width": 1
          },
          "opacity": 1,
          "size": 15,
          "symbol": "circle"
         },
         "mode": "markers",
         "name": "_child12",
         "type": "scatter",
         "x": [
          40.9
         ],
         "xaxis": "x",
         "y": [
          0.3
         ],
         "yaxis": "y"
        },
        {
         "marker": {
          "color": "#008000",
          "line": {
           "color": "#008000",
           "width": 1
          },
          "opacity": 1,
          "size": 15,
          "symbol": "circle"
         },
         "mode": "markers",
         "name": "_child14",
         "type": "scatter",
         "x": [
          38.3
         ],
         "xaxis": "x",
         "y": [
          0.2
         ],
         "yaxis": "y"
        }
       ],
       "layout": {
        "annotations": [
         {
          "align": "center",
          "font": {
           "color": "#FFFFFF",
           "size": 15
          },
          "opacity": 1,
          "showarrow": false,
          "text": "1",
          "x": 41.8,
          "xanchor": "center",
          "xref": "x",
          "y": 0.2,
          "yref": "y"
         },
         {
          "align": "center",
          "font": {
           "color": "#FFFFFF",
           "size": 15
          },
          "opacity": 1,
          "showarrow": false,
          "text": "2",
          "x": 45.5,
          "xanchor": "center",
          "xref": "x",
          "y": 1.5,
          "yref": "y"
         },
         {
          "align": "center",
          "font": {
           "color": "#FFFFFF",
           "size": 15
          },
          "opacity": 1,
          "showarrow": false,
          "text": "3",
          "x": 39.3,
          "xanchor": "center",
          "xref": "x",
          "y": 2.3,
          "yref": "y"
         },
         {
          "align": "center",
          "font": {
           "color": "#FFFFFF",
           "size": 15
          },
          "opacity": 1,
          "showarrow": false,
          "text": "4",
          "x": 43.9,
          "xanchor": "center",
          "xref": "x",
          "y": 0.2,
          "yref": "y"
         },
         {
          "align": "center",
          "font": {
           "color": "#FFFFFF",
           "size": 15
          },
          "opacity": 1,
          "showarrow": false,
          "text": "5",
          "x": 40.9,
          "xanchor": "center",
          "xref": "x",
          "y": 0.3,
          "yref": "y"
         },
         {
          "align": "center",
          "font": {
           "color": "#FFFFFF",
           "size": 15
          },
          "opacity": 1,
          "showarrow": false,
          "text": "6",
          "x": 38.3,
          "xanchor": "center",
          "xref": "x",
          "y": 0.2,
          "yref": "y"
         }
        ],
        "autosize": false,
        "height": 432,
        "hovermode": "closest",
        "margin": {
         "b": 0,
         "l": 0,
         "pad": 0,
         "r": 0,
         "t": 0
        },
        "plot_bgcolor": "#585454",
        "showlegend": false,
        "template": {
         "data": {
          "bar": [
           {
            "error_x": {
             "color": "#2a3f5f"
            },
            "error_y": {
             "color": "#2a3f5f"
            },
            "marker": {
             "line": {
              "color": "#E5ECF6",
              "width": 0.5
             },
             "pattern": {
              "fillmode": "overlay",
              "size": 10,
              "solidity": 0.2
             }
            },
            "type": "bar"
           }
          ],
          "barpolar": [
           {
            "marker": {
             "line": {
              "color": "#E5ECF6",
              "width": 0.5
             },
             "pattern": {
              "fillmode": "overlay",
              "size": 10,
              "solidity": 0.2
             }
            },
            "type": "barpolar"
           }
          ],
          "carpet": [
           {
            "aaxis": {
             "endlinecolor": "#2a3f5f",
             "gridcolor": "white",
             "linecolor": "white",
             "minorgridcolor": "white",
             "startlinecolor": "#2a3f5f"
            },
            "baxis": {
             "endlinecolor": "#2a3f5f",
             "gridcolor": "white",
             "linecolor": "white",
             "minorgridcolor": "white",
             "startlinecolor": "#2a3f5f"
            },
            "type": "carpet"
           }
          ],
          "choropleth": [
           {
            "colorbar": {
             "outlinewidth": 0,
             "ticks": ""
            },
            "type": "choropleth"
           }
          ],
          "contour": [
           {
            "colorbar": {
             "outlinewidth": 0,
             "ticks": ""
            },
            "colorscale": [
             [
              0,
              "#0d0887"
             ],
             [
              0.1111111111111111,
              "#46039f"
             ],
             [
              0.2222222222222222,
              "#7201a8"
             ],
             [
              0.3333333333333333,
              "#9c179e"
             ],
             [
              0.4444444444444444,
              "#bd3786"
             ],
             [
              0.5555555555555556,
              "#d8576b"
             ],
             [
              0.6666666666666666,
              "#ed7953"
             ],
             [
              0.7777777777777778,
              "#fb9f3a"
             ],
             [
              0.8888888888888888,
              "#fdca26"
             ],
             [
              1,
              "#f0f921"
             ]
            ],
            "type": "contour"
           }
          ],
          "contourcarpet": [
           {
            "colorbar": {
             "outlinewidth": 0,
             "ticks": ""
            },
            "type": "contourcarpet"
           }
          ],
          "heatmap": [
           {
            "colorbar": {
             "outlinewidth": 0,
             "ticks": ""
            },
            "colorscale": [
             [
              0,
              "#0d0887"
             ],
             [
              0.1111111111111111,
              "#46039f"
             ],
             [
              0.2222222222222222,
              "#7201a8"
             ],
             [
              0.3333333333333333,
              "#9c179e"
             ],
             [
              0.4444444444444444,
              "#bd3786"
             ],
             [
              0.5555555555555556,
              "#d8576b"
             ],
             [
              0.6666666666666666,
              "#ed7953"
             ],
             [
              0.7777777777777778,
              "#fb9f3a"
             ],
             [
              0.8888888888888888,
              "#fdca26"
             ],
             [
              1,
              "#f0f921"
             ]
            ],
            "type": "heatmap"
           }
          ],
          "heatmapgl": [
           {
            "colorbar": {
             "outlinewidth": 0,
             "ticks": ""
            },
            "colorscale": [
             [
              0,
              "#0d0887"
             ],
             [
              0.1111111111111111,
              "#46039f"
             ],
             [
              0.2222222222222222,
              "#7201a8"
             ],
             [
              0.3333333333333333,
              "#9c179e"
             ],
             [
              0.4444444444444444,
              "#bd3786"
             ],
             [
              0.5555555555555556,
              "#d8576b"
             ],
             [
              0.6666666666666666,
              "#ed7953"
             ],
             [
              0.7777777777777778,
              "#fb9f3a"
             ],
             [
              0.8888888888888888,
              "#fdca26"
             ],
             [
              1,
              "#f0f921"
             ]
            ],
            "type": "heatmapgl"
           }
          ],
          "histogram": [
           {
            "marker": {
             "pattern": {
              "fillmode": "overlay",
              "size": 10,
              "solidity": 0.2
             }
            },
            "type": "histogram"
           }
          ],
          "histogram2d": [
           {
            "colorbar": {
             "outlinewidth": 0,
             "ticks": ""
            },
            "colorscale": [
             [
              0,
              "#0d0887"
             ],
             [
              0.1111111111111111,
              "#46039f"
             ],
             [
              0.2222222222222222,
              "#7201a8"
             ],
             [
              0.3333333333333333,
              "#9c179e"
             ],
             [
              0.4444444444444444,
              "#bd3786"
             ],
             [
              0.5555555555555556,
              "#d8576b"
             ],
             [
              0.6666666666666666,
              "#ed7953"
             ],
             [
              0.7777777777777778,
              "#fb9f3a"
             ],
             [
              0.8888888888888888,
              "#fdca26"
             ],
             [
              1,
              "#f0f921"
             ]
            ],
            "type": "histogram2d"
           }
          ],
          "histogram2dcontour": [
           {
            "colorbar": {
             "outlinewidth": 0,
             "ticks": ""
            },
            "colorscale": [
             [
              0,
              "#0d0887"
             ],
             [
              0.1111111111111111,
              "#46039f"
             ],
             [
              0.2222222222222222,
              "#7201a8"
             ],
             [
              0.3333333333333333,
              "#9c179e"
             ],
             [
              0.4444444444444444,
              "#bd3786"
             ],
             [
              0.5555555555555556,
              "#d8576b"
             ],
             [
              0.6666666666666666,
              "#ed7953"
             ],
             [
              0.7777777777777778,
              "#fb9f3a"
             ],
             [
              0.8888888888888888,
              "#fdca26"
             ],
             [
              1,
              "#f0f921"
             ]
            ],
            "type": "histogram2dcontour"
           }
          ],
          "mesh3d": [
           {
            "colorbar": {
             "outlinewidth": 0,
             "ticks": ""
            },
            "type": "mesh3d"
           }
          ],
          "parcoords": [
           {
            "line": {
             "colorbar": {
              "outlinewidth": 0,
              "ticks": ""
             }
            },
            "type": "parcoords"
           }
          ],
          "pie": [
           {
            "automargin": true,
            "type": "pie"
           }
          ],
          "scatter": [
           {
            "fillpattern": {
             "fillmode": "overlay",
             "size": 10,
             "solidity": 0.2
            },
            "type": "scatter"
           }
          ],
          "scatter3d": [
           {
            "line": {
             "colorbar": {
              "outlinewidth": 0,
              "ticks": ""
             }
            },
            "marker": {
             "colorbar": {
              "outlinewidth": 0,
              "ticks": ""
             }
            },
            "type": "scatter3d"
           }
          ],
          "scattercarpet": [
           {
            "marker": {
             "colorbar": {
              "outlinewidth": 0,
              "ticks": ""
             }
            },
            "type": "scattercarpet"
           }
          ],
          "scattergeo": [
           {
            "marker": {
             "colorbar": {
              "outlinewidth": 0,
              "ticks": ""
             }
            },
            "type": "scattergeo"
           }
          ],
          "scattergl": [
           {
            "marker": {
             "colorbar": {
              "outlinewidth": 0,
              "ticks": ""
             }
            },
            "type": "scattergl"
           }
          ],
          "scattermapbox": [
           {
            "marker": {
             "colorbar": {
              "outlinewidth": 0,
              "ticks": ""
             }
            },
            "type": "scattermapbox"
           }
          ],
          "scatterpolar": [
           {
            "marker": {
             "colorbar": {
              "outlinewidth": 0,
              "ticks": ""
             }
            },
            "type": "scatterpolar"
           }
          ],
          "scatterpolargl": [
           {
            "marker": {
             "colorbar": {
              "outlinewidth": 0,
              "ticks": ""
             }
            },
            "type": "scatterpolargl"
           }
          ],
          "scatterternary": [
           {
            "marker": {
             "colorbar": {
              "outlinewidth": 0,
              "ticks": ""
             }
            },
            "type": "scatterternary"
           }
          ],
          "surface": [
           {
            "colorbar": {
             "outlinewidth": 0,
             "ticks": ""
            },
            "colorscale": [
             [
              0,
              "#0d0887"
             ],
             [
              0.1111111111111111,
              "#46039f"
             ],
             [
              0.2222222222222222,
              "#7201a8"
             ],
             [
              0.3333333333333333,
              "#9c179e"
             ],
             [
              0.4444444444444444,
              "#bd3786"
             ],
             [
              0.5555555555555556,
              "#d8576b"
             ],
             [
              0.6666666666666666,
              "#ed7953"
             ],
             [
              0.7777777777777778,
              "#fb9f3a"
             ],
             [
              0.8888888888888888,
              "#fdca26"
             ],
             [
              1,
              "#f0f921"
             ]
            ],
            "type": "surface"
           }
          ],
          "table": [
           {
            "cells": {
             "fill": {
              "color": "#EBF0F8"
             },
             "line": {
              "color": "white"
             }
            },
            "header": {
             "fill": {
              "color": "#C8D4E3"
             },
             "line": {
              "color": "white"
             }
            },
            "type": "table"
           }
          ]
         },
         "layout": {
          "annotationdefaults": {
           "arrowcolor": "#2a3f5f",
           "arrowhead": 0,
           "arrowwidth": 1
          },
          "autotypenumbers": "strict",
          "coloraxis": {
           "colorbar": {
            "outlinewidth": 0,
            "ticks": ""
           }
          },
          "colorscale": {
           "diverging": [
            [
             0,
             "#8e0152"
            ],
            [
             0.1,
             "#c51b7d"
            ],
            [
             0.2,
             "#de77ae"
            ],
            [
             0.3,
             "#f1b6da"
            ],
            [
             0.4,
             "#fde0ef"
            ],
            [
             0.5,
             "#f7f7f7"
            ],
            [
             0.6,
             "#e6f5d0"
            ],
            [
             0.7,
             "#b8e186"
            ],
            [
             0.8,
             "#7fbc41"
            ],
            [
             0.9,
             "#4d9221"
            ],
            [
             1,
             "#276419"
            ]
           ],
           "sequential": [
            [
             0,
             "#0d0887"
            ],
            [
             0.1111111111111111,
             "#46039f"
            ],
            [
             0.2222222222222222,
             "#7201a8"
            ],
            [
             0.3333333333333333,
             "#9c179e"
            ],
            [
             0.4444444444444444,
             "#bd3786"
            ],
            [
             0.5555555555555556,
             "#d8576b"
            ],
            [
             0.6666666666666666,
             "#ed7953"
            ],
            [
             0.7777777777777778,
             "#fb9f3a"
            ],
            [
             0.8888888888888888,
             "#fdca26"
            ],
            [
             1,
             "#f0f921"
            ]
           ],
           "sequentialminus": [
            [
             0,
             "#0d0887"
            ],
            [
             0.1111111111111111,
             "#46039f"
            ],
            [
             0.2222222222222222,
             "#7201a8"
            ],
            [
             0.3333333333333333,
             "#9c179e"
            ],
            [
             0.4444444444444444,
             "#bd3786"
            ],
            [
             0.5555555555555556,
             "#d8576b"
            ],
            [
             0.6666666666666666,
             "#ed7953"
            ],
            [
             0.7777777777777778,
             "#fb9f3a"
            ],
            [
             0.8888888888888888,
             "#fdca26"
            ],
            [
             1,
             "#f0f921"
            ]
           ]
          },
          "colorway": [
           "#636efa",
           "#EF553B",
           "#00cc96",
           "#ab63fa",
           "#FFA15A",
           "#19d3f3",
           "#FF6692",
           "#B6E880",
           "#FF97FF",
           "#FECB52"
          ],
          "font": {
           "color": "#2a3f5f"
          },
          "geo": {
           "bgcolor": "white",
           "lakecolor": "white",
           "landcolor": "#E5ECF6",
           "showlakes": true,
           "showland": true,
           "subunitcolor": "white"
          },
          "hoverlabel": {
           "align": "left"
          },
          "hovermode": "closest",
          "mapbox": {
           "style": "light"
          },
          "paper_bgcolor": "white",
          "plot_bgcolor": "#E5ECF6",
          "polar": {
           "angularaxis": {
            "gridcolor": "white",
            "linecolor": "white",
            "ticks": ""
           },
           "bgcolor": "#E5ECF6",
           "radialaxis": {
            "gridcolor": "white",
            "linecolor": "white",
            "ticks": ""
           }
          },
          "scene": {
           "xaxis": {
            "backgroundcolor": "#E5ECF6",
            "gridcolor": "white",
            "gridwidth": 2,
            "linecolor": "white",
            "showbackground": true,
            "ticks": "",
            "zerolinecolor": "white"
           },
           "yaxis": {
            "backgroundcolor": "#E5ECF6",
            "gridcolor": "white",
            "gridwidth": 2,
            "linecolor": "white",
            "showbackground": true,
            "ticks": "",
            "zerolinecolor": "white"
           },
           "zaxis": {
            "backgroundcolor": "#E5ECF6",
            "gridcolor": "white",
            "gridwidth": 2,
            "linecolor": "white",
            "showbackground": true,
            "ticks": "",
            "zerolinecolor": "white"
           }
          },
          "shapedefaults": {
           "line": {
            "color": "#2a3f5f"
           }
          },
          "ternary": {
           "aaxis": {
            "gridcolor": "white",
            "linecolor": "white",
            "ticks": ""
           },
           "baxis": {
            "gridcolor": "white",
            "linecolor": "white",
            "ticks": ""
           },
           "bgcolor": "#E5ECF6",
           "caxis": {
            "gridcolor": "white",
            "linecolor": "white",
            "ticks": ""
           }
          },
          "title": {
           "x": 0.05
          },
          "xaxis": {
           "automargin": true,
           "gridcolor": "white",
           "linecolor": "white",
           "ticks": "",
           "title": {
            "standoff": 15
           },
           "zerolinecolor": "white",
           "zerolinewidth": 2
          },
          "yaxis": {
           "automargin": true,
           "gridcolor": "white",
           "linecolor": "white",
           "ticks": "",
           "title": {
            "standoff": 15
           },
           "zerolinecolor": "white",
           "zerolinewidth": 2
          }
         }
        },
        "title": {
         "font": {
          "color": "#FFFFFF",
          "size": 12
         },
         "text": "Goalpost"
        },
        "width": 648,
        "xaxis": {
         "anchor": "y",
         "domain": [
          0,
          1
         ],
         "mirror": "ticks",
         "nticks": 9,
         "range": [
          33,
          47
         ],
         "scaleanchor": "y",
         "scaleratio": 1,
         "showgrid": false,
         "showline": true,
         "showticklabels": false,
         "side": "bottom",
         "tickfont": {
          "size": 10
         },
         "ticks": "inside",
         "type": "linear",
         "visible": false,
         "zeroline": false
        },
        "yaxis": {
         "anchor": "x",
         "domain": [
          0,
          1
         ],
         "mirror": "ticks",
         "nticks": 6,
         "range": [
          -0.2,
          4
         ],
         "showgrid": false,
         "showline": true,
         "showticklabels": false,
         "side": "left",
         "tickfont": {
          "size": 10
         },
         "ticks": "inside",
         "type": "linear",
         "visible": false,
         "zeroline": false
        }
       }
      },
      "text/html": [
       "<div>                            <div id=\"7fad9b03-b206-47a9-97e2-a3871f48209c\" class=\"plotly-graph-div\" style=\"height:432px; width:648px;\"></div>            <script type=\"text/javascript\">                require([\"plotly\"], function(Plotly) {                    window.PLOTLYENV=window.PLOTLYENV || {};                                    if (document.getElementById(\"7fad9b03-b206-47a9-97e2-a3871f48209c\")) {                    Plotly.newPlot(                        \"7fad9b03-b206-47a9-97e2-a3871f48209c\",                        [{\"line\":{\"color\":\"rgba (255, 255, 255, 1)\",\"dash\":\"solid\",\"width\":3.0},\"mode\":\"lines\",\"name\":\"_child0\",\"x\":[25.0,60.0],\"xaxis\":\"x\",\"y\":[0.0,0.0],\"yaxis\":\"y\",\"type\":\"scatter\"},{\"line\":{\"color\":\"rgba (255, 255, 255, 1)\",\"dash\":\"solid\",\"width\":3.0},\"mode\":\"lines\",\"name\":\"_child1\",\"x\":[36.0,36.0],\"xaxis\":\"x\",\"y\":[0.0,2.66],\"yaxis\":\"y\",\"type\":\"scatter\"},{\"line\":{\"color\":\"rgba (255, 255, 255, 1)\",\"dash\":\"solid\",\"width\":3.0},\"mode\":\"lines\",\"name\":\"_child2\",\"x\":[44.0,44.0],\"xaxis\":\"x\",\"y\":[0.0,2.66],\"yaxis\":\"y\",\"type\":\"scatter\"},{\"line\":{\"color\":\"rgba (255, 255, 255, 1)\",\"dash\":\"solid\",\"width\":3.0},\"mode\":\"lines\",\"name\":\"_child3\",\"x\":[36.0,44.0],\"xaxis\":\"x\",\"y\":[2.66,2.66],\"yaxis\":\"y\",\"type\":\"scatter\"},{\"marker\":{\"color\":\"#008000\",\"line\":{\"color\":\"#008000\",\"width\":1.0},\"opacity\":1,\"size\":15.0,\"symbol\":\"circle\"},\"mode\":\"markers\",\"name\":\"_child4\",\"x\":[41.8],\"xaxis\":\"x\",\"y\":[0.2],\"yaxis\":\"y\",\"type\":\"scatter\"},{\"marker\":{\"color\":\"#FF0000\",\"line\":{\"color\":\"#FF0000\",\"width\":1.0},\"opacity\":1,\"size\":15.0,\"symbol\":\"circle\"},\"mode\":\"markers\",\"name\":\"_child6\",\"x\":[45.5],\"xaxis\":\"x\",\"y\":[1.5],\"yaxis\":\"y\",\"type\":\"scatter\"},{\"marker\":{\"color\":\"#FFA500\",\"line\":{\"color\":\"#FFA500\",\"width\":1.0},\"opacity\":1,\"size\":15.0,\"symbol\":\"circle\"},\"mode\":\"markers\",\"name\":\"_child8\",\"x\":[39.3],\"xaxis\":\"x\",\"y\":[2.3],\"yaxis\":\"y\",\"type\":\"scatter\"},{\"marker\":{\"color\":\"#FFA500\",\"line\":{\"color\":\"#FFA500\",\"width\":1.0},\"opacity\":1,\"size\":15.0,\"symbol\":\"circle\"},\"mode\":\"markers\",\"name\":\"_child10\",\"x\":[43.9],\"xaxis\":\"x\",\"y\":[0.2],\"yaxis\":\"y\",\"type\":\"scatter\"},{\"marker\":{\"color\":\"#008000\",\"line\":{\"color\":\"#008000\",\"width\":1.0},\"opacity\":1,\"size\":15.0,\"symbol\":\"circle\"},\"mode\":\"markers\",\"name\":\"_child12\",\"x\":[40.9],\"xaxis\":\"x\",\"y\":[0.3],\"yaxis\":\"y\",\"type\":\"scatter\"},{\"marker\":{\"color\":\"#008000\",\"line\":{\"color\":\"#008000\",\"width\":1.0},\"opacity\":1,\"size\":15.0,\"symbol\":\"circle\"},\"mode\":\"markers\",\"name\":\"_child14\",\"x\":[38.3],\"xaxis\":\"x\",\"y\":[0.2],\"yaxis\":\"y\",\"type\":\"scatter\"}],                        {\"autosize\":false,\"height\":432,\"hovermode\":\"closest\",\"width\":648,\"template\":{\"data\":{\"histogram2dcontour\":[{\"type\":\"histogram2dcontour\",\"colorbar\":{\"outlinewidth\":0,\"ticks\":\"\"},\"colorscale\":[[0.0,\"#0d0887\"],[0.1111111111111111,\"#46039f\"],[0.2222222222222222,\"#7201a8\"],[0.3333333333333333,\"#9c179e\"],[0.4444444444444444,\"#bd3786\"],[0.5555555555555556,\"#d8576b\"],[0.6666666666666666,\"#ed7953\"],[0.7777777777777778,\"#fb9f3a\"],[0.8888888888888888,\"#fdca26\"],[1.0,\"#f0f921\"]]}],\"choropleth\":[{\"type\":\"choropleth\",\"colorbar\":{\"outlinewidth\":0,\"ticks\":\"\"}}],\"histogram2d\":[{\"type\":\"histogram2d\",\"colorbar\":{\"outlinewidth\":0,\"ticks\":\"\"},\"colorscale\":[[0.0,\"#0d0887\"],[0.1111111111111111,\"#46039f\"],[0.2222222222222222,\"#7201a8\"],[0.3333333333333333,\"#9c179e\"],[0.4444444444444444,\"#bd3786\"],[0.5555555555555556,\"#d8576b\"],[0.6666666666666666,\"#ed7953\"],[0.7777777777777778,\"#fb9f3a\"],[0.8888888888888888,\"#fdca26\"],[1.0,\"#f0f921\"]]}],\"heatmap\":[{\"type\":\"heatmap\",\"colorbar\":{\"outlinewidth\":0,\"ticks\":\"\"},\"colorscale\":[[0.0,\"#0d0887\"],[0.1111111111111111,\"#46039f\"],[0.2222222222222222,\"#7201a8\"],[0.3333333333333333,\"#9c179e\"],[0.4444444444444444,\"#bd3786\"],[0.5555555555555556,\"#d8576b\"],[0.6666666666666666,\"#ed7953\"],[0.7777777777777778,\"#fb9f3a\"],[0.8888888888888888,\"#fdca26\"],[1.0,\"#f0f921\"]]}],\"heatmapgl\":[{\"type\":\"heatmapgl\",\"colorbar\":{\"outlinewidth\":0,\"ticks\":\"\"},\"colorscale\":[[0.0,\"#0d0887\"],[0.1111111111111111,\"#46039f\"],[0.2222222222222222,\"#7201a8\"],[0.3333333333333333,\"#9c179e\"],[0.4444444444444444,\"#bd3786\"],[0.5555555555555556,\"#d8576b\"],[0.6666666666666666,\"#ed7953\"],[0.7777777777777778,\"#fb9f3a\"],[0.8888888888888888,\"#fdca26\"],[1.0,\"#f0f921\"]]}],\"contourcarpet\":[{\"type\":\"contourcarpet\",\"colorbar\":{\"outlinewidth\":0,\"ticks\":\"\"}}],\"contour\":[{\"type\":\"contour\",\"colorbar\":{\"outlinewidth\":0,\"ticks\":\"\"},\"colorscale\":[[0.0,\"#0d0887\"],[0.1111111111111111,\"#46039f\"],[0.2222222222222222,\"#7201a8\"],[0.3333333333333333,\"#9c179e\"],[0.4444444444444444,\"#bd3786\"],[0.5555555555555556,\"#d8576b\"],[0.6666666666666666,\"#ed7953\"],[0.7777777777777778,\"#fb9f3a\"],[0.8888888888888888,\"#fdca26\"],[1.0,\"#f0f921\"]]}],\"surface\":[{\"type\":\"surface\",\"colorbar\":{\"outlinewidth\":0,\"ticks\":\"\"},\"colorscale\":[[0.0,\"#0d0887\"],[0.1111111111111111,\"#46039f\"],[0.2222222222222222,\"#7201a8\"],[0.3333333333333333,\"#9c179e\"],[0.4444444444444444,\"#bd3786\"],[0.5555555555555556,\"#d8576b\"],[0.6666666666666666,\"#ed7953\"],[0.7777777777777778,\"#fb9f3a\"],[0.8888888888888888,\"#fdca26\"],[1.0,\"#f0f921\"]]}],\"mesh3d\":[{\"type\":\"mesh3d\",\"colorbar\":{\"outlinewidth\":0,\"ticks\":\"\"}}],\"scatter\":[{\"fillpattern\":{\"fillmode\":\"overlay\",\"size\":10,\"solidity\":0.2},\"type\":\"scatter\"}],\"parcoords\":[{\"type\":\"parcoords\",\"line\":{\"colorbar\":{\"outlinewidth\":0,\"ticks\":\"\"}}}],\"scatterpolargl\":[{\"type\":\"scatterpolargl\",\"marker\":{\"colorbar\":{\"outlinewidth\":0,\"ticks\":\"\"}}}],\"bar\":[{\"error_x\":{\"color\":\"#2a3f5f\"},\"error_y\":{\"color\":\"#2a3f5f\"},\"marker\":{\"line\":{\"color\":\"#E5ECF6\",\"width\":0.5},\"pattern\":{\"fillmode\":\"overlay\",\"size\":10,\"solidity\":0.2}},\"type\":\"bar\"}],\"scattergeo\":[{\"type\":\"scattergeo\",\"marker\":{\"colorbar\":{\"outlinewidth\":0,\"ticks\":\"\"}}}],\"scatterpolar\":[{\"type\":\"scatterpolar\",\"marker\":{\"colorbar\":{\"outlinewidth\":0,\"ticks\":\"\"}}}],\"histogram\":[{\"marker\":{\"pattern\":{\"fillmode\":\"overlay\",\"size\":10,\"solidity\":0.2}},\"type\":\"histogram\"}],\"scattergl\":[{\"type\":\"scattergl\",\"marker\":{\"colorbar\":{\"outlinewidth\":0,\"ticks\":\"\"}}}],\"scatter3d\":[{\"type\":\"scatter3d\",\"line\":{\"colorbar\":{\"outlinewidth\":0,\"ticks\":\"\"}},\"marker\":{\"colorbar\":{\"outlinewidth\":0,\"ticks\":\"\"}}}],\"scattermapbox\":[{\"type\":\"scattermapbox\",\"marker\":{\"colorbar\":{\"outlinewidth\":0,\"ticks\":\"\"}}}],\"scatterternary\":[{\"type\":\"scatterternary\",\"marker\":{\"colorbar\":{\"outlinewidth\":0,\"ticks\":\"\"}}}],\"scattercarpet\":[{\"type\":\"scattercarpet\",\"marker\":{\"colorbar\":{\"outlinewidth\":0,\"ticks\":\"\"}}}],\"carpet\":[{\"aaxis\":{\"endlinecolor\":\"#2a3f5f\",\"gridcolor\":\"white\",\"linecolor\":\"white\",\"minorgridcolor\":\"white\",\"startlinecolor\":\"#2a3f5f\"},\"baxis\":{\"endlinecolor\":\"#2a3f5f\",\"gridcolor\":\"white\",\"linecolor\":\"white\",\"minorgridcolor\":\"white\",\"startlinecolor\":\"#2a3f5f\"},\"type\":\"carpet\"}],\"table\":[{\"cells\":{\"fill\":{\"color\":\"#EBF0F8\"},\"line\":{\"color\":\"white\"}},\"header\":{\"fill\":{\"color\":\"#C8D4E3\"},\"line\":{\"color\":\"white\"}},\"type\":\"table\"}],\"barpolar\":[{\"marker\":{\"line\":{\"color\":\"#E5ECF6\",\"width\":0.5},\"pattern\":{\"fillmode\":\"overlay\",\"size\":10,\"solidity\":0.2}},\"type\":\"barpolar\"}],\"pie\":[{\"automargin\":true,\"type\":\"pie\"}]},\"layout\":{\"autotypenumbers\":\"strict\",\"colorway\":[\"#636efa\",\"#EF553B\",\"#00cc96\",\"#ab63fa\",\"#FFA15A\",\"#19d3f3\",\"#FF6692\",\"#B6E880\",\"#FF97FF\",\"#FECB52\"],\"font\":{\"color\":\"#2a3f5f\"},\"hovermode\":\"closest\",\"hoverlabel\":{\"align\":\"left\"},\"paper_bgcolor\":\"white\",\"plot_bgcolor\":\"#E5ECF6\",\"polar\":{\"bgcolor\":\"#E5ECF6\",\"angularaxis\":{\"gridcolor\":\"white\",\"linecolor\":\"white\",\"ticks\":\"\"},\"radialaxis\":{\"gridcolor\":\"white\",\"linecolor\":\"white\",\"ticks\":\"\"}},\"ternary\":{\"bgcolor\":\"#E5ECF6\",\"aaxis\":{\"gridcolor\":\"white\",\"linecolor\":\"white\",\"ticks\":\"\"},\"baxis\":{\"gridcolor\":\"white\",\"linecolor\":\"white\",\"ticks\":\"\"},\"caxis\":{\"gridcolor\":\"white\",\"linecolor\":\"white\",\"ticks\":\"\"}},\"coloraxis\":{\"colorbar\":{\"outlinewidth\":0,\"ticks\":\"\"}},\"colorscale\":{\"sequential\":[[0.0,\"#0d0887\"],[0.1111111111111111,\"#46039f\"],[0.2222222222222222,\"#7201a8\"],[0.3333333333333333,\"#9c179e\"],[0.4444444444444444,\"#bd3786\"],[0.5555555555555556,\"#d8576b\"],[0.6666666666666666,\"#ed7953\"],[0.7777777777777778,\"#fb9f3a\"],[0.8888888888888888,\"#fdca26\"],[1.0,\"#f0f921\"]],\"sequentialminus\":[[0.0,\"#0d0887\"],[0.1111111111111111,\"#46039f\"],[0.2222222222222222,\"#7201a8\"],[0.3333333333333333,\"#9c179e\"],[0.4444444444444444,\"#bd3786\"],[0.5555555555555556,\"#d8576b\"],[0.6666666666666666,\"#ed7953\"],[0.7777777777777778,\"#fb9f3a\"],[0.8888888888888888,\"#fdca26\"],[1.0,\"#f0f921\"]],\"diverging\":[[0,\"#8e0152\"],[0.1,\"#c51b7d\"],[0.2,\"#de77ae\"],[0.3,\"#f1b6da\"],[0.4,\"#fde0ef\"],[0.5,\"#f7f7f7\"],[0.6,\"#e6f5d0\"],[0.7,\"#b8e186\"],[0.8,\"#7fbc41\"],[0.9,\"#4d9221\"],[1,\"#276419\"]]},\"xaxis\":{\"gridcolor\":\"white\",\"linecolor\":\"white\",\"ticks\":\"\",\"title\":{\"standoff\":15},\"zerolinecolor\":\"white\",\"automargin\":true,\"zerolinewidth\":2},\"yaxis\":{\"gridcolor\":\"white\",\"linecolor\":\"white\",\"ticks\":\"\",\"title\":{\"standoff\":15},\"zerolinecolor\":\"white\",\"automargin\":true,\"zerolinewidth\":2},\"scene\":{\"xaxis\":{\"backgroundcolor\":\"#E5ECF6\",\"gridcolor\":\"white\",\"linecolor\":\"white\",\"showbackground\":true,\"ticks\":\"\",\"zerolinecolor\":\"white\",\"gridwidth\":2},\"yaxis\":{\"backgroundcolor\":\"#E5ECF6\",\"gridcolor\":\"white\",\"linecolor\":\"white\",\"showbackground\":true,\"ticks\":\"\",\"zerolinecolor\":\"white\",\"gridwidth\":2},\"zaxis\":{\"backgroundcolor\":\"#E5ECF6\",\"gridcolor\":\"white\",\"linecolor\":\"white\",\"showbackground\":true,\"ticks\":\"\",\"zerolinecolor\":\"white\",\"gridwidth\":2}},\"shapedefaults\":{\"line\":{\"color\":\"#2a3f5f\"}},\"annotationdefaults\":{\"arrowcolor\":\"#2a3f5f\",\"arrowhead\":0,\"arrowwidth\":1},\"geo\":{\"bgcolor\":\"white\",\"landcolor\":\"#E5ECF6\",\"subunitcolor\":\"white\",\"showland\":true,\"showlakes\":true,\"lakecolor\":\"white\"},\"title\":{\"x\":0.05},\"mapbox\":{\"style\":\"light\"}}},\"margin\":{\"b\":0,\"l\":0,\"pad\":0,\"r\":0,\"t\":0},\"xaxis\":{\"anchor\":\"y\",\"domain\":[0.0,1.0],\"mirror\":\"ticks\",\"nticks\":9,\"range\":[33.0,47.0],\"showgrid\":false,\"showline\":true,\"side\":\"bottom\",\"tickfont\":{\"size\":10.0},\"ticks\":\"inside\",\"type\":\"linear\",\"zeroline\":false,\"visible\":false,\"showticklabels\":false,\"scaleanchor\":\"y\",\"scaleratio\":1},\"yaxis\":{\"anchor\":\"x\",\"domain\":[0.0,1.0],\"mirror\":\"ticks\",\"nticks\":6,\"range\":[-0.2,4.0],\"showgrid\":false,\"showline\":true,\"side\":\"left\",\"tickfont\":{\"size\":10.0},\"ticks\":\"inside\",\"type\":\"linear\",\"zeroline\":false,\"visible\":false,\"showticklabels\":false},\"annotations\":[{\"align\":\"center\",\"font\":{\"color\":\"#FFFFFF\",\"size\":15.0},\"opacity\":1,\"showarrow\":false,\"text\":\"1\",\"x\":41.8,\"xanchor\":\"center\",\"xref\":\"x\",\"y\":0.2,\"yref\":\"y\"},{\"align\":\"center\",\"font\":{\"color\":\"#FFFFFF\",\"size\":15.0},\"opacity\":1,\"showarrow\":false,\"text\":\"2\",\"x\":45.5,\"xanchor\":\"center\",\"xref\":\"x\",\"y\":1.5,\"yref\":\"y\"},{\"align\":\"center\",\"font\":{\"color\":\"#FFFFFF\",\"size\":15.0},\"opacity\":1,\"showarrow\":false,\"text\":\"3\",\"x\":39.3,\"xanchor\":\"center\",\"xref\":\"x\",\"y\":2.3,\"yref\":\"y\"},{\"align\":\"center\",\"font\":{\"color\":\"#FFFFFF\",\"size\":15.0},\"opacity\":1,\"showarrow\":false,\"text\":\"4\",\"x\":43.9,\"xanchor\":\"center\",\"xref\":\"x\",\"y\":0.2,\"yref\":\"y\"},{\"align\":\"center\",\"font\":{\"color\":\"#FFFFFF\",\"size\":15.0},\"opacity\":1,\"showarrow\":false,\"text\":\"5\",\"x\":40.9,\"xanchor\":\"center\",\"xref\":\"x\",\"y\":0.3,\"yref\":\"y\"},{\"align\":\"center\",\"font\":{\"color\":\"#FFFFFF\",\"size\":15.0},\"opacity\":1,\"showarrow\":false,\"text\":\"6\",\"x\":38.3,\"xanchor\":\"center\",\"xref\":\"x\",\"y\":0.2,\"yref\":\"y\"}],\"title\":{\"text\":\"Goalpost\",\"font\":{\"color\":\"#FFFFFF\",\"size\":12.0}},\"showlegend\":false,\"plot_bgcolor\":\"#585454\"},                        {\"responsive\": true}                    ).then(function(){\n",
       "                            \n",
       "var gd = document.getElementById('7fad9b03-b206-47a9-97e2-a3871f48209c');\n",
       "var x = new MutationObserver(function (mutations, observer) {{\n",
       "        var display = window.getComputedStyle(gd).display;\n",
       "        if (!display || display === 'none') {{\n",
       "            console.log([gd, 'removed!']);\n",
       "            Plotly.purge(gd);\n",
       "            observer.disconnect();\n",
       "        }}\n",
       "}});\n",
       "\n",
       "// Listen for the removal of the full notebook cells\n",
       "var notebookContainer = gd.closest('#notebook-container');\n",
       "if (notebookContainer) {{\n",
       "    x.observe(notebookContainer, {childList: true});\n",
       "}}\n",
       "\n",
       "// Listen for the clearing of the current output cell\n",
       "var outputEl = gd.closest('.output');\n",
       "if (outputEl) {{\n",
       "    x.observe(outputEl, {childList: true});\n",
       "}}\n",
       "\n",
       "                        })                };                });            </script>        </div>"
      ]
     },
     "metadata": {},
     "output_type": "display_data"
    }
   ],
   "source": [
    "import matplotlib.pyplot as plt\n",
    "import plotly.tools as tls\n",
    "\n",
    "def generateShotMapGoal(data):\n",
    "    # Coordinates of the goalpost with extended bottom line\n",
    "    x_bottom = [25, 60]  # Extend the bottom line beyond the posts\n",
    "    y_bottom = [0, 0]\n",
    "    x_left = [36, 36]\n",
    "    y_left = [0, 2.66]\n",
    "    x_right = [44, 44]\n",
    "    y_right = [0, 2.66]\n",
    "    x_top = [36, 44]\n",
    "    y_top = [2.66, 2.66]\n",
    "\n",
    "    selectData = data[['Index', 'end_y', 'end_z', 'outcome_name']]\n",
    "    \n",
    "    # Create the figure with the updated background color\n",
    "    #fig, ax = plt.subplots(figsize=(6, 4))\n",
    "    fig, ax = plt.subplots(figsize=(9, 6))  # Adjust the dimensions as needed (width, height)\n",
    "\n",
    "    fig.patch.set_facecolor('#585454')\n",
    "    ax.set_facecolor('#585454')\n",
    "\n",
    "    # Plotting the goalpost with thicker white lines\n",
    "    linewidth_goalpost = 3  # Increase the linewidth for the goalpost\n",
    "    ax.plot(x_bottom, y_bottom, 'w-', linewidth=linewidth_goalpost)\n",
    "    ax.plot(x_left, y_left, 'w-', linewidth=linewidth_goalpost)\n",
    "    ax.plot(x_right, y_right, 'w-', linewidth=linewidth_goalpost)\n",
    "    ax.plot(x_top, y_top, 'w-', linewidth=linewidth_goalpost)\n",
    "\n",
    "    ax.set_xlim(33, 47)\n",
    "    ax.set_ylim(-0.2, 4)\n",
    "    ax.set_title(\"Goalpost\", color='white')\n",
    "    ax.set_aspect('equal')\n",
    "\n",
    "    # Remove the axes, axis labels, and grid\n",
    "    ax.axis('off')\n",
    "\n",
    "    data_point_size = 15  # You can adjust this value as needed\n",
    "\n",
    "    # Enumerate and plot the data points with colored labels\n",
    "    for index, row in selectData.iterrows():\n",
    "        if row['outcome_name'] == 'Goal':\n",
    "            color = 'green'\n",
    "        elif row['outcome_name'] == 'Off T':\n",
    "            color = 'red'\n",
    "        elif row['outcome_name'] == 'Saved':\n",
    "            color = 'orange'\n",
    "        else:\n",
    "            color = 'blue'\n",
    "\n",
    "        ax.plot(row['end_y'], row['end_z'], 'o', color=color, markersize=data_point_size)  # Adjust marker size here\n",
    "        ax.text(row['end_y'], row['end_z'], str(int(row['Index'])), ha='center', va='bottom', color='white', fontsize=data_point_size)\n",
    "\n",
    "    # Convert to a Plotly figure\n",
    "    plotly_fig = tls.mpl_to_plotly(fig)\n",
    "\n",
    "    # Update Plotly figure layout for equal axis and to remove axes, ticks, and grid\n",
    "    plotly_fig.update_layout(\n",
    "        plot_bgcolor='#585454',  # Match the background color\n",
    "        xaxis=dict(\n",
    "            visible=False,  # Hide X-axis\n",
    "            showgrid=False,  # No grid lines\n",
    "            showticklabels=False,  # No tick labels\n",
    "            scaleanchor='y',  # Ensure equal scaling with y-axis\n",
    "            scaleratio=1,  # 1:1 aspect ratio\n",
    "        ),\n",
    "        yaxis=dict(\n",
    "            visible=False,  # Hide Y-axis\n",
    "            showgrid=False,  # No grid lines\n",
    "            showticklabels=False,  # No tick labels\n",
    "        ),\n",
    "        margin=dict(l=0, r=0, t=0, b=0),  # Remove margins\n",
    "    )\n",
    "\n",
    "    return plotly_fig\n",
    "\n",
    "\n",
    "dat = deriveShotMapData('Lionel Messi')\n",
    "generateShotMapGoal(dat)\n"
   ]
  },
  {
   "cell_type": "code",
   "execution_count": 199,
   "id": "d284f463",
   "metadata": {},
   "outputs": [
    {
     "data": {
      "text/html": [
       "\n",
       "        <iframe\n",
       "            width=\"100%\"\n",
       "            height=\"650\"\n",
       "            src=\"http://127.0.0.1:8050/\"\n",
       "            frameborder=\"0\"\n",
       "            allowfullscreen\n",
       "        ></iframe>\n",
       "        "
      ],
      "text/plain": [
       "<IPython.lib.display.IFrame at 0x28c7441dc10>"
      ]
     },
     "metadata": {},
     "output_type": "display_data"
    }
   ],
   "source": [
    "import dash\n",
    "from dash import dcc, html\n",
    "import dash_table\n",
    "from dash.dependencies import Input, Output\n",
    "import plotly.graph_objs as go\n",
    "from matplotlib.widgets import RadioButtons\n",
    "import dash\n",
    "import dash_bootstrap_components as dbc\n",
    "import dash_core_components as dcc\n",
    "import dash_html_components as html\n",
    "from dash.dependencies import Input, Output\n",
    "import plotly.express as px\n",
    "\n",
    "name = 'Lionel Messi'\n",
    "shotData = deriveShotMapData(name)\n",
    "refinedShotData = shotData.drop(columns=[\"timestamp\", \"x\", \"y\", \"end_x\", \"end_y\", \"end_z\", \"technique_id\"])\n",
    "\n",
    "default_pitch_fig = makePitch('Lionel Messi')  # Assuming makePitch returns a Plotly figure\n",
    "default_shot_map_fig = generateShotMapGoal(dat)\n",
    "\n",
    "#app = dash.Dash(__name__)\n",
    "app = dash.Dash(__name__, external_stylesheets=[dbc.themes.BOOTSTRAP])\n",
    "\n",
    "app.layout = html.Div([\n",
    "    # Container for the plots\n",
    "    html.Div([\n",
    "        dcc.Graph(id='graph-output', style={'width': '100%', 'height': '500px', 'margin-right': '10px'}),\n",
    "        dcc.Graph(id='shot-map-image', style={'width': '50%', 'margin-left': '10px'})\n",
    "    ], style={'width': '100%', 'display': 'flex', 'flexDirection': 'row'}),\n",
    "\n",
    "    # Interactive components and other elements\n",
    "    html.Div(id='click-data'),\n",
    "    html.A('Open Visualization', href='#graph-output'),\n",
    "    html.Button('Generate Graph', id='button'),\n",
    "\n",
    "    # Adding a Dash DataTable to display shotData\n",
    "    dash_table.DataTable(\n",
    "        id='table',\n",
    "        columns=[ {\"name\": i, \"id\": i, \"deletable\": False, \"selectable\": True}\n",
    "            for i in refinedShotData.columns],\n",
    "        data=shotData.to_dict('records'),\n",
    "        style_table={\n",
    "            'overflowX': 'auto',  },\n",
    "        style_header={'backgroundColor': 'rgb(230, 230, 230)',  # Header background color\n",
    "            'fontWeight': 'bold',},\n",
    "        style_cell={\n",
    "            'textAlign': 'center','minWidth': '50px', 'maxWidth': '100px',  # Set maximum cell width\n",
    "            'whiteSpace': 'normal','textOverflow': 'ellipsis','fontSize': '14px', },\n",
    "        style_data_conditional=[\n",
    "            {'if': {'row_index': 'odd'},  # Apply style to odd rows\n",
    "                'backgroundColor': 'rgb(248, 248, 248)',},\n",
    "            {'if': {'column_id': 'Goals'},  # Apply style to 'Goals' column\n",
    "                'fontWeight': 'bold',\n",
    "                'backgroundColor': 'rgb(255, 204, 204)',},\n",
    "            {'if': {\n",
    "                    'filter_query': '{outcome_name} eq \"Goal\"'\n",
    "                },\n",
    "                'backgroundColor': 'rgba(34, 139, 34, 0.5)',  # Red with reduced opacity\n",
    "                'color': 'white', },\n",
    "            {'if': {\n",
    "                    'filter_query': '{outcome_name} eq \"Off T\"'\n",
    "                },\n",
    "                'backgroundColor': 'rgba(255, 0, 0, 0.5)',  # Red with reduced opacity\n",
    "                'color': 'white', },\n",
    "            {'if': {\n",
    "                    'filter_query': '{outcome_name} eq \"Saved\"'\n",
    "                },\n",
    "                'backgroundColor': 'rgba(255, 165, 0, 0.5)',  # Orange with reduced opacity\n",
    "                'color': 'white',}, ],),\n",
    "\n",
    "    # Dropdown menu for player selection\n",
    "    dcc.Dropdown(\n",
    "        id='player-dropdown',\n",
    "        options=[\n",
    "            {'label': 'Lionel Messi', 'value': 'Lionel Messi'},\n",
    "            {'label': 'Cristiano Ronaldo', 'value': 'Cristiano Ronaldo'},\n",
    "            # Add more player options as needed\n",
    "        ],\n",
    "        value='Lionel Messi'  # Default selected player\n",
    "    )\n",
    "])\n",
    "\n",
    "@app.callback(\n",
    "    Output('graph-output', 'figure'),\n",
    "    [Input('player-dropdown', 'value')]\n",
    ")\n",
    "def update_graph(selected_player):\n",
    "    fig = makePitch([selected_player])  # Pass a list to makePitch if that's what it expects\n",
    "    return fig\n",
    "\n",
    "@app.callback(\n",
    "    Output('shot-map-image', 'figure'),\n",
    "    [Input('player-dropdown', 'value')]\n",
    ")\n",
    "def update_shot_map(selected_player):\n",
    "    dat = deriveShotMapData(selected_player)\n",
    "    plotly_fig = generateShotMapGoal(dat)\n",
    "    return plotly_fig\n",
    "\n",
    "@app.callback(\n",
    "    Output('click-data', 'children'),\n",
    "    [Input('graph-output', 'clickData')]\n",
    ")\n",
    "def display_click_data(clickData):\n",
    "    if clickData is not None:\n",
    "        return \"Data point clicked!\"\n",
    "    return \"Click on a data point to interact\"\n",
    "\n",
    "if __name__ == '__main__':\n",
    "    app.run_server(debug=True)\n"
   ]
  },
  {
   "cell_type": "code",
   "execution_count": 202,
   "id": "85952b7e",
   "metadata": {},
   "outputs": [
    {
     "data": {
      "text/html": [
       "\n",
       "        <iframe\n",
       "            width=\"100%\"\n",
       "            height=\"650\"\n",
       "            src=\"http://127.0.0.1:8050/\"\n",
       "            frameborder=\"0\"\n",
       "            allowfullscreen\n",
       "        ></iframe>\n",
       "        "
      ],
      "text/plain": [
       "<IPython.lib.display.IFrame at 0x28c74aaeaf0>"
      ]
     },
     "metadata": {},
     "output_type": "display_data"
    }
   ],
   "source": [
    "import dash\n",
    "from dash import dcc, html\n",
    "import dash_table\n",
    "from dash.dependencies import Input, Output\n",
    "import plotly.graph_objs as go\n",
    "from matplotlib.widgets import RadioButtons\n",
    "import dash\n",
    "import dash_bootstrap_components as dbc\n",
    "import dash_core_components as dcc\n",
    "import dash_html_components as html\n",
    "from dash.dependencies import Input, Output\n",
    "import plotly.express as px\n",
    "import dash\n",
    "import dash_bootstrap_components as dbc\n",
    "from dash import dcc, html\n",
    "import dash_table\n",
    "from dash.dependencies import Input, Output\n",
    "\n",
    "name = 'Lionel Messi'\n",
    "shotData = deriveShotMapData(name)\n",
    "refinedShotData = shotData.drop(columns=[\"timestamp\", \"x\", \"y\", \"end_x\", \"end_y\", \"end_z\", \"technique_id\"])\n",
    "\n",
    "default_pitch_fig = makePitch('Lionel Messi')  # Assuming makePitch returns a Plotly figure\n",
    "default_shot_map_fig = generateShotMapGoal(dat)\n",
    "\n",
    "#app = dash.Dash(__name__)\n",
    "app = dash.Dash(__name__, external_stylesheets=[dbc.themes.BOOTSTRAP])\n",
    "\n",
    "app.layout = dbc.Container([\n",
    "    # Row for Dropdown and Button\n",
    "    dbc.Row([\n",
    "        dbc.Col(dcc.Dropdown(\n",
    "            id='player-dropdown',\n",
    "            options=[\n",
    "                {'label': 'Lionel Messi', 'value': 'Lionel Messi'},\n",
    "                {'label': 'Cristiano Ronaldo', 'value': 'Cristiano Ronaldo'},\n",
    "                # Add more player options as needed\n",
    "            ],\n",
    "            value='Lionel Messi'  # Default selected player\n",
    "        ), width=8),\n",
    "        dbc.Col(html.Button('Generate Graph', id='button'), width=4)\n",
    "    ]),\n",
    "\n",
    "    # Row for the plots\n",
    "    dbc.Row([\n",
    "        dbc.Col(dcc.Graph(id='graph-output', style={'height': '500px'}), width=6),\n",
    "        dbc.Col(dcc.Graph(id='shot-map-image', style={'height': '500px'}), width=6)\n",
    "    ]),\n",
    "    \n",
    "    dbc.Row(\n",
    "        dbc.Col(html.Div(id='click-data'), width=12)\n",
    "    ),\n",
    "    \n",
    "    # Row for DataTable\n",
    "    dbc.Row([\n",
    "        dbc.Col(dash_table.DataTable(\n",
    "            id='table',\n",
    "            columns=[{\"name\": i, \"id\": i} for i in refinedShotData.columns],\n",
    "            data=shotData.to_dict('records'),\n",
    "            # DataTable styles\n",
    "        ), width=12)\n",
    "    ])\n",
    "])\n",
    "\n",
    "\n",
    "@app.callback(\n",
    "    Output('graph-output', 'figure'),\n",
    "    [Input('player-dropdown', 'value')]\n",
    ")\n",
    "def update_graph(selected_player):\n",
    "    fig = makePitch([selected_player])  # Pass a list to makePitch if that's what it expects\n",
    "    return fig\n",
    "\n",
    "@app.callback(\n",
    "    Output('shot-map-image', 'figure'),\n",
    "    [Input('player-dropdown', 'value')]\n",
    ")\n",
    "def update_shot_map(selected_player):\n",
    "    dat = deriveShotMapData(selected_player)\n",
    "    plotly_fig = generateShotMapGoal(dat)\n",
    "    return plotly_fig\n",
    "\n",
    "@app.callback(\n",
    "    Output('click-data', 'children'),\n",
    "    [Input('graph-output', 'clickData')]\n",
    ")\n",
    "def display_click_data(clickData):\n",
    "    if clickData is not None:\n",
    "        return \"Data point clicked!\"\n",
    "    return \"Click on a data point to interact\"\n",
    "\n",
    "if __name__ == '__main__':\n",
    "    app.run_server(debug=True)\n"
   ]
  }
 ],
 "metadata": {
  "kernelspec": {
   "display_name": "Python 3",
   "language": "python",
   "name": "python3"
  },
  "language_info": {
   "codemirror_mode": {
    "name": "ipython",
    "version": 3
   },
   "file_extension": ".py",
   "mimetype": "text/x-python",
   "name": "python",
   "nbconvert_exporter": "python",
   "pygments_lexer": "ipython3",
   "version": "3.8.8"
  }
 },
 "nbformat": 4,
 "nbformat_minor": 5
}
